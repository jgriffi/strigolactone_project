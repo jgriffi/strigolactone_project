{
 "cells": [
  {
   "cell_type": "markdown",
   "metadata": {},
   "source": [
    "## Import libraries"
   ]
  },
  {
   "cell_type": "code",
   "execution_count": 1,
   "metadata": {
    "ExecuteTime": {
     "end_time": "2021-07-26T22:33:47.866835Z",
     "start_time": "2021-07-26T22:33:46.114470Z"
    }
   },
   "outputs": [],
   "source": [
    "import pandas as pd\n",
    "import numpy as np\n",
    "import matplotlib as mpl\n",
    "import matplotlib.pyplot as plt\n",
    "import seaborn as sns\n",
    "import random\n",
    "from sklearn.model_selection import train_test_split\n",
    "from sklearn.ensemble import RandomForestRegressor\n",
    "from sklearn.model_selection import cross_val_score\n",
    "from sklearn.preprocessing import StandardScaler\n",
    "from sklearn.metrics import mean_squared_error\n",
    "from sklearn.model_selection import GridSearchCV\n",
    "from sklearn.feature_selection import VarianceThreshold\n",
    "from sklearn.linear_model import LinearRegression\n",
    "from sklearn.tree import DecisionTreeRegressor\n",
    "from sklearn.model_selection import RandomizedSearchCV\n",
    "from sklearn.decomposition import PCA\n",
    "from scipy.stats import randint\n",
    "from common import start_pipeline, save_fig, VarianceThreshold_selector, prepare_dataset, display_scores\n",
    "\n",
    "\n",
    "mpl.rc('axes', labelsize=14)\n",
    "mpl.rc('xtick', labelsize=12)\n",
    "mpl.rc('ytick', labelsize=12)\n",
    "%matplotlib inline\n",
    "%config InlineBackend.figure_format='retina'"
   ]
  },
  {
   "cell_type": "markdown",
   "metadata": {},
   "source": [
    "## Preparing dataset"
   ]
  },
  {
   "cell_type": "code",
   "execution_count": 2,
   "metadata": {
    "ExecuteTime": {
     "end_time": "2021-07-26T22:33:49.042328Z",
     "start_time": "2021-07-26T22:33:47.869029Z"
    }
   },
   "outputs": [
    {
     "data": {
      "text/html": [
       "<div>\n",
       "<style scoped>\n",
       "    .dataframe tbody tr th:only-of-type {\n",
       "        vertical-align: middle;\n",
       "    }\n",
       "\n",
       "    .dataframe tbody tr th {\n",
       "        vertical-align: top;\n",
       "    }\n",
       "\n",
       "    .dataframe thead th {\n",
       "        text-align: right;\n",
       "    }\n",
       "</style>\n",
       "<table border=\"1\" class=\"dataframe\">\n",
       "  <thead>\n",
       "    <tr style=\"text-align: right;\">\n",
       "      <th></th>\n",
       "      <th>Name</th>\n",
       "      <th>PubchemFP0</th>\n",
       "      <th>PubchemFP1</th>\n",
       "      <th>PubchemFP2</th>\n",
       "      <th>PubchemFP3</th>\n",
       "      <th>PubchemFP4</th>\n",
       "      <th>PubchemFP5</th>\n",
       "      <th>PubchemFP6</th>\n",
       "      <th>PubchemFP7</th>\n",
       "      <th>PubchemFP8</th>\n",
       "      <th>...</th>\n",
       "      <th>PubchemFP871</th>\n",
       "      <th>PubchemFP872</th>\n",
       "      <th>PubchemFP873</th>\n",
       "      <th>PubchemFP874</th>\n",
       "      <th>PubchemFP875</th>\n",
       "      <th>PubchemFP876</th>\n",
       "      <th>PubchemFP877</th>\n",
       "      <th>PubchemFP878</th>\n",
       "      <th>PubchemFP879</th>\n",
       "      <th>PubchemFP880</th>\n",
       "    </tr>\n",
       "  </thead>\n",
       "  <tbody>\n",
       "    <tr>\n",
       "      <th>0</th>\n",
       "      <td>CHEMBL162083</td>\n",
       "      <td>1.0</td>\n",
       "      <td>1.0</td>\n",
       "      <td>0.0</td>\n",
       "      <td>0.0</td>\n",
       "      <td>0.0</td>\n",
       "      <td>0.0</td>\n",
       "      <td>0.0</td>\n",
       "      <td>0.0</td>\n",
       "      <td>0.0</td>\n",
       "      <td>...</td>\n",
       "      <td>0.0</td>\n",
       "      <td>0.0</td>\n",
       "      <td>0.0</td>\n",
       "      <td>0.0</td>\n",
       "      <td>0.0</td>\n",
       "      <td>0.0</td>\n",
       "      <td>0.0</td>\n",
       "      <td>0.0</td>\n",
       "      <td>0.0</td>\n",
       "      <td>0.0</td>\n",
       "    </tr>\n",
       "    <tr>\n",
       "      <th>1</th>\n",
       "      <td>CHEMBL350898</td>\n",
       "      <td>1.0</td>\n",
       "      <td>1.0</td>\n",
       "      <td>0.0</td>\n",
       "      <td>0.0</td>\n",
       "      <td>0.0</td>\n",
       "      <td>0.0</td>\n",
       "      <td>0.0</td>\n",
       "      <td>0.0</td>\n",
       "      <td>0.0</td>\n",
       "      <td>...</td>\n",
       "      <td>0.0</td>\n",
       "      <td>0.0</td>\n",
       "      <td>0.0</td>\n",
       "      <td>0.0</td>\n",
       "      <td>0.0</td>\n",
       "      <td>0.0</td>\n",
       "      <td>0.0</td>\n",
       "      <td>0.0</td>\n",
       "      <td>0.0</td>\n",
       "      <td>0.0</td>\n",
       "    </tr>\n",
       "    <tr>\n",
       "      <th>2</th>\n",
       "      <td>CHEMBL161187</td>\n",
       "      <td>1.0</td>\n",
       "      <td>1.0</td>\n",
       "      <td>0.0</td>\n",
       "      <td>0.0</td>\n",
       "      <td>0.0</td>\n",
       "      <td>0.0</td>\n",
       "      <td>0.0</td>\n",
       "      <td>0.0</td>\n",
       "      <td>0.0</td>\n",
       "      <td>...</td>\n",
       "      <td>0.0</td>\n",
       "      <td>0.0</td>\n",
       "      <td>0.0</td>\n",
       "      <td>0.0</td>\n",
       "      <td>0.0</td>\n",
       "      <td>0.0</td>\n",
       "      <td>0.0</td>\n",
       "      <td>0.0</td>\n",
       "      <td>0.0</td>\n",
       "      <td>0.0</td>\n",
       "    </tr>\n",
       "  </tbody>\n",
       "</table>\n",
       "<p>3 rows × 882 columns</p>\n",
       "</div>"
      ],
      "text/plain": [
       "           Name  PubchemFP0  PubchemFP1  PubchemFP2  PubchemFP3  PubchemFP4  \\\n",
       "0  CHEMBL162083         1.0         1.0         0.0         0.0         0.0   \n",
       "1  CHEMBL350898         1.0         1.0         0.0         0.0         0.0   \n",
       "2  CHEMBL161187         1.0         1.0         0.0         0.0         0.0   \n",
       "\n",
       "   PubchemFP5  PubchemFP6  PubchemFP7  PubchemFP8  ...  PubchemFP871  \\\n",
       "0         0.0         0.0         0.0         0.0  ...           0.0   \n",
       "1         0.0         0.0         0.0         0.0  ...           0.0   \n",
       "2         0.0         0.0         0.0         0.0  ...           0.0   \n",
       "\n",
       "   PubchemFP872  PubchemFP873  PubchemFP874  PubchemFP875  PubchemFP876  \\\n",
       "0           0.0           0.0           0.0           0.0           0.0   \n",
       "1           0.0           0.0           0.0           0.0           0.0   \n",
       "2           0.0           0.0           0.0           0.0           0.0   \n",
       "\n",
       "   PubchemFP877  PubchemFP878  PubchemFP879  PubchemFP880  \n",
       "0           0.0           0.0           0.0           0.0  \n",
       "1           0.0           0.0           0.0           0.0  \n",
       "2           0.0           0.0           0.0           0.0  \n",
       "\n",
       "[3 rows x 882 columns]"
      ]
     },
     "execution_count": 2,
     "metadata": {},
     "output_type": "execute_result"
    }
   ],
   "source": [
    "descriptors_output_3classes = pd.read_csv('./data/descriptors_output.csv')\n",
    "descriptors_output_3classes.head(3)"
   ]
  },
  {
   "cell_type": "code",
   "execution_count": 3,
   "metadata": {
    "ExecuteTime": {
     "end_time": "2021-07-26T22:33:49.095361Z",
     "start_time": "2021-07-26T22:33:49.044395Z"
    }
   },
   "outputs": [
    {
     "data": {
      "text/html": [
       "<div>\n",
       "<style scoped>\n",
       "    .dataframe tbody tr th:only-of-type {\n",
       "        vertical-align: middle;\n",
       "    }\n",
       "\n",
       "    .dataframe tbody tr th {\n",
       "        vertical-align: top;\n",
       "    }\n",
       "\n",
       "    .dataframe thead th {\n",
       "        text-align: right;\n",
       "    }\n",
       "</style>\n",
       "<table border=\"1\" class=\"dataframe\">\n",
       "  <thead>\n",
       "    <tr style=\"text-align: right;\">\n",
       "      <th></th>\n",
       "      <th>molecule_chembl_id</th>\n",
       "      <th>cleaned_canonical_smiles</th>\n",
       "      <th>bioactivity_class</th>\n",
       "      <th>MW</th>\n",
       "      <th>LogP</th>\n",
       "      <th>NumHDonors</th>\n",
       "      <th>NumHAcceptors</th>\n",
       "      <th>pIC50</th>\n",
       "    </tr>\n",
       "  </thead>\n",
       "  <tbody>\n",
       "    <tr>\n",
       "      <th>0</th>\n",
       "      <td>CHEMBL39380</td>\n",
       "      <td>COC(=O)CC(O)CP(=O)([O-])CCc1c(Cl)cc(Cl)cc1OCc1...</td>\n",
       "      <td>active</td>\n",
       "      <td>460.270</td>\n",
       "      <td>3.6773</td>\n",
       "      <td>1.0</td>\n",
       "      <td>6.0</td>\n",
       "      <td>7.0</td>\n",
       "    </tr>\n",
       "    <tr>\n",
       "      <th>1</th>\n",
       "      <td>CHEMBL39003</td>\n",
       "      <td>CC(C)(C)C(=O)OCOC(=O)CC(O)CP(=O)(CCc1c(Cl)cc(C...</td>\n",
       "      <td>active</td>\n",
       "      <td>675.539</td>\n",
       "      <td>6.7974</td>\n",
       "      <td>1.0</td>\n",
       "      <td>10.0</td>\n",
       "      <td>7.0</td>\n",
       "    </tr>\n",
       "    <tr>\n",
       "      <th>2</th>\n",
       "      <td>CHEMBL39102</td>\n",
       "      <td>O=C(O)C[C@H](O)CP(=O)(O)CCc1c(Cl)cc(Cl)cc1OCc1...</td>\n",
       "      <td>active</td>\n",
       "      <td>447.251</td>\n",
       "      <td>4.2209</td>\n",
       "      <td>3.0</td>\n",
       "      <td>4.0</td>\n",
       "      <td>6.0</td>\n",
       "    </tr>\n",
       "  </tbody>\n",
       "</table>\n",
       "</div>"
      ],
      "text/plain": [
       "  molecule_chembl_id                           cleaned_canonical_smiles  \\\n",
       "0        CHEMBL39380  COC(=O)CC(O)CP(=O)([O-])CCc1c(Cl)cc(Cl)cc1OCc1...   \n",
       "1        CHEMBL39003  CC(C)(C)C(=O)OCOC(=O)CC(O)CP(=O)(CCc1c(Cl)cc(C...   \n",
       "2        CHEMBL39102  O=C(O)C[C@H](O)CP(=O)(O)CCc1c(Cl)cc(Cl)cc1OCc1...   \n",
       "\n",
       "  bioactivity_class       MW    LogP  NumHDonors  NumHAcceptors  pIC50  \n",
       "0            active  460.270  3.6773         1.0            6.0    7.0  \n",
       "1            active  675.539  6.7974         1.0           10.0    7.0  \n",
       "2            active  447.251  4.2209         3.0            4.0    6.0  "
      ]
     },
     "execution_count": 3,
     "metadata": {},
     "output_type": "execute_result"
    }
   ],
   "source": [
    "tidy_target_HepG2_3classes = pd.read_csv('./data/tidy_target_HepG2_3classes.csv')\n",
    "tidy_target_HepG2_3classes.head(3)"
   ]
  },
  {
   "cell_type": "markdown",
   "metadata": {},
   "source": [
    "## Features"
   ]
  },
  {
   "cell_type": "code",
   "execution_count": 4,
   "metadata": {
    "ExecuteTime": {
     "end_time": "2021-07-26T22:33:50.419342Z",
     "start_time": "2021-07-26T22:33:49.098852Z"
    }
   },
   "outputs": [],
   "source": [
    "X_train, X_test, y_train, y_test, dataf, X = (tidy_target_HepG2_3classes\n",
    "                                              .pipe(start_pipeline)\n",
    "                                              .pipe(prepare_dataset, descriptors_output_3classes))"
   ]
  },
  {
   "cell_type": "code",
   "execution_count": 5,
   "metadata": {
    "ExecuteTime": {
     "end_time": "2021-07-26T22:33:50.455097Z",
     "start_time": "2021-07-26T22:33:50.421482Z"
    }
   },
   "outputs": [
    {
     "data": {
      "text/html": [
       "<div>\n",
       "<style scoped>\n",
       "    .dataframe tbody tr th:only-of-type {\n",
       "        vertical-align: middle;\n",
       "    }\n",
       "\n",
       "    .dataframe tbody tr th {\n",
       "        vertical-align: top;\n",
       "    }\n",
       "\n",
       "    .dataframe thead th {\n",
       "        text-align: right;\n",
       "    }\n",
       "</style>\n",
       "<table border=\"1\" class=\"dataframe\">\n",
       "  <thead>\n",
       "    <tr style=\"text-align: right;\">\n",
       "      <th></th>\n",
       "      <th>molecule_chembl_id</th>\n",
       "      <th>cleaned_canonical_smiles</th>\n",
       "      <th>bioactivity_class</th>\n",
       "      <th>MW</th>\n",
       "      <th>LogP</th>\n",
       "      <th>NumHDonors</th>\n",
       "      <th>NumHAcceptors</th>\n",
       "      <th>pIC50</th>\n",
       "      <th>PubchemFP0</th>\n",
       "      <th>PubchemFP1</th>\n",
       "      <th>...</th>\n",
       "      <th>PubchemFP871</th>\n",
       "      <th>PubchemFP872</th>\n",
       "      <th>PubchemFP873</th>\n",
       "      <th>PubchemFP874</th>\n",
       "      <th>PubchemFP875</th>\n",
       "      <th>PubchemFP876</th>\n",
       "      <th>PubchemFP877</th>\n",
       "      <th>PubchemFP878</th>\n",
       "      <th>PubchemFP879</th>\n",
       "      <th>PubchemFP880</th>\n",
       "    </tr>\n",
       "  </thead>\n",
       "  <tbody>\n",
       "    <tr>\n",
       "      <th>0</th>\n",
       "      <td>CHEMBL39380</td>\n",
       "      <td>COC(=O)CC(O)CP(=O)([O-])CCc1c(Cl)cc(Cl)cc1OCc1...</td>\n",
       "      <td>active</td>\n",
       "      <td>460.270</td>\n",
       "      <td>3.6773</td>\n",
       "      <td>1.0</td>\n",
       "      <td>6.0</td>\n",
       "      <td>7.0</td>\n",
       "      <td>1.0</td>\n",
       "      <td>1.0</td>\n",
       "      <td>...</td>\n",
       "      <td>0.0</td>\n",
       "      <td>0.0</td>\n",
       "      <td>0.0</td>\n",
       "      <td>0.0</td>\n",
       "      <td>0.0</td>\n",
       "      <td>0.0</td>\n",
       "      <td>0.0</td>\n",
       "      <td>0.0</td>\n",
       "      <td>0.0</td>\n",
       "      <td>0.0</td>\n",
       "    </tr>\n",
       "    <tr>\n",
       "      <th>1</th>\n",
       "      <td>CHEMBL39003</td>\n",
       "      <td>CC(C)(C)C(=O)OCOC(=O)CC(O)CP(=O)(CCc1c(Cl)cc(C...</td>\n",
       "      <td>active</td>\n",
       "      <td>675.539</td>\n",
       "      <td>6.7974</td>\n",
       "      <td>1.0</td>\n",
       "      <td>10.0</td>\n",
       "      <td>7.0</td>\n",
       "      <td>1.0</td>\n",
       "      <td>1.0</td>\n",
       "      <td>...</td>\n",
       "      <td>0.0</td>\n",
       "      <td>0.0</td>\n",
       "      <td>0.0</td>\n",
       "      <td>0.0</td>\n",
       "      <td>0.0</td>\n",
       "      <td>0.0</td>\n",
       "      <td>0.0</td>\n",
       "      <td>0.0</td>\n",
       "      <td>0.0</td>\n",
       "      <td>0.0</td>\n",
       "    </tr>\n",
       "    <tr>\n",
       "      <th>2</th>\n",
       "      <td>CHEMBL39102</td>\n",
       "      <td>O=C(O)C[C@H](O)CP(=O)(O)CCc1c(Cl)cc(Cl)cc1OCc1...</td>\n",
       "      <td>active</td>\n",
       "      <td>447.251</td>\n",
       "      <td>4.2209</td>\n",
       "      <td>3.0</td>\n",
       "      <td>4.0</td>\n",
       "      <td>6.0</td>\n",
       "      <td>1.0</td>\n",
       "      <td>1.0</td>\n",
       "      <td>...</td>\n",
       "      <td>0.0</td>\n",
       "      <td>0.0</td>\n",
       "      <td>0.0</td>\n",
       "      <td>0.0</td>\n",
       "      <td>0.0</td>\n",
       "      <td>0.0</td>\n",
       "      <td>0.0</td>\n",
       "      <td>0.0</td>\n",
       "      <td>0.0</td>\n",
       "      <td>0.0</td>\n",
       "    </tr>\n",
       "    <tr>\n",
       "      <th>3</th>\n",
       "      <td>CHEMBL162083</td>\n",
       "      <td>O=S(=O)(CC#C/C=C\\C#CCO)c1ccccc1</td>\n",
       "      <td>active</td>\n",
       "      <td>260.314</td>\n",
       "      <td>1.0156</td>\n",
       "      <td>1.0</td>\n",
       "      <td>3.0</td>\n",
       "      <td>8.0</td>\n",
       "      <td>1.0</td>\n",
       "      <td>1.0</td>\n",
       "      <td>...</td>\n",
       "      <td>0.0</td>\n",
       "      <td>0.0</td>\n",
       "      <td>0.0</td>\n",
       "      <td>0.0</td>\n",
       "      <td>0.0</td>\n",
       "      <td>0.0</td>\n",
       "      <td>0.0</td>\n",
       "      <td>0.0</td>\n",
       "      <td>0.0</td>\n",
       "      <td>0.0</td>\n",
       "    </tr>\n",
       "    <tr>\n",
       "      <th>4</th>\n",
       "      <td>CHEMBL350898</td>\n",
       "      <td>COc1ccc(S(=O)(=O)CC#C/C=C\\C#CCO)cc1</td>\n",
       "      <td>active</td>\n",
       "      <td>290.340</td>\n",
       "      <td>1.0242</td>\n",
       "      <td>1.0</td>\n",
       "      <td>4.0</td>\n",
       "      <td>8.0</td>\n",
       "      <td>1.0</td>\n",
       "      <td>1.0</td>\n",
       "      <td>...</td>\n",
       "      <td>0.0</td>\n",
       "      <td>0.0</td>\n",
       "      <td>0.0</td>\n",
       "      <td>0.0</td>\n",
       "      <td>0.0</td>\n",
       "      <td>0.0</td>\n",
       "      <td>0.0</td>\n",
       "      <td>0.0</td>\n",
       "      <td>0.0</td>\n",
       "      <td>0.0</td>\n",
       "    </tr>\n",
       "  </tbody>\n",
       "</table>\n",
       "<p>5 rows × 889 columns</p>\n",
       "</div>"
      ],
      "text/plain": [
       "  molecule_chembl_id                           cleaned_canonical_smiles  \\\n",
       "0        CHEMBL39380  COC(=O)CC(O)CP(=O)([O-])CCc1c(Cl)cc(Cl)cc1OCc1...   \n",
       "1        CHEMBL39003  CC(C)(C)C(=O)OCOC(=O)CC(O)CP(=O)(CCc1c(Cl)cc(C...   \n",
       "2        CHEMBL39102  O=C(O)C[C@H](O)CP(=O)(O)CCc1c(Cl)cc(Cl)cc1OCc1...   \n",
       "3       CHEMBL162083                    O=S(=O)(CC#C/C=C\\C#CCO)c1ccccc1   \n",
       "4       CHEMBL350898                COc1ccc(S(=O)(=O)CC#C/C=C\\C#CCO)cc1   \n",
       "\n",
       "  bioactivity_class       MW    LogP  NumHDonors  NumHAcceptors  pIC50  \\\n",
       "0            active  460.270  3.6773         1.0            6.0    7.0   \n",
       "1            active  675.539  6.7974         1.0           10.0    7.0   \n",
       "2            active  447.251  4.2209         3.0            4.0    6.0   \n",
       "3            active  260.314  1.0156         1.0            3.0    8.0   \n",
       "4            active  290.340  1.0242         1.0            4.0    8.0   \n",
       "\n",
       "   PubchemFP0  PubchemFP1  ...  PubchemFP871  PubchemFP872  PubchemFP873  \\\n",
       "0         1.0         1.0  ...           0.0           0.0           0.0   \n",
       "1         1.0         1.0  ...           0.0           0.0           0.0   \n",
       "2         1.0         1.0  ...           0.0           0.0           0.0   \n",
       "3         1.0         1.0  ...           0.0           0.0           0.0   \n",
       "4         1.0         1.0  ...           0.0           0.0           0.0   \n",
       "\n",
       "   PubchemFP874  PubchemFP875  PubchemFP876  PubchemFP877  PubchemFP878  \\\n",
       "0           0.0           0.0           0.0           0.0           0.0   \n",
       "1           0.0           0.0           0.0           0.0           0.0   \n",
       "2           0.0           0.0           0.0           0.0           0.0   \n",
       "3           0.0           0.0           0.0           0.0           0.0   \n",
       "4           0.0           0.0           0.0           0.0           0.0   \n",
       "\n",
       "   PubchemFP879  PubchemFP880  \n",
       "0           0.0           0.0  \n",
       "1           0.0           0.0  \n",
       "2           0.0           0.0  \n",
       "3           0.0           0.0  \n",
       "4           0.0           0.0  \n",
       "\n",
       "[5 rows x 889 columns]"
      ]
     },
     "execution_count": 5,
     "metadata": {},
     "output_type": "execute_result"
    }
   ],
   "source": [
    "dataf.head()"
   ]
  },
  {
   "cell_type": "code",
   "execution_count": 6,
   "metadata": {
    "ExecuteTime": {
     "end_time": "2021-07-26T22:33:50.484808Z",
     "start_time": "2021-07-26T22:33:50.457437Z"
    }
   },
   "outputs": [
    {
     "data": {
      "text/html": [
       "<div>\n",
       "<style scoped>\n",
       "    .dataframe tbody tr th:only-of-type {\n",
       "        vertical-align: middle;\n",
       "    }\n",
       "\n",
       "    .dataframe tbody tr th {\n",
       "        vertical-align: top;\n",
       "    }\n",
       "\n",
       "    .dataframe thead th {\n",
       "        text-align: right;\n",
       "    }\n",
       "</style>\n",
       "<table border=\"1\" class=\"dataframe\">\n",
       "  <thead>\n",
       "    <tr style=\"text-align: right;\">\n",
       "      <th></th>\n",
       "      <th>PubchemFP2</th>\n",
       "      <th>PubchemFP3</th>\n",
       "      <th>PubchemFP15</th>\n",
       "      <th>PubchemFP16</th>\n",
       "      <th>PubchemFP20</th>\n",
       "      <th>PubchemFP33</th>\n",
       "      <th>PubchemFP143</th>\n",
       "      <th>PubchemFP145</th>\n",
       "      <th>PubchemFP146</th>\n",
       "      <th>PubchemFP150</th>\n",
       "      <th>...</th>\n",
       "      <th>PubchemFP735</th>\n",
       "      <th>PubchemFP756</th>\n",
       "      <th>PubchemFP758</th>\n",
       "      <th>PubchemFP776</th>\n",
       "      <th>PubchemFP777</th>\n",
       "      <th>PubchemFP797</th>\n",
       "      <th>PubchemFP798</th>\n",
       "      <th>PubchemFP818</th>\n",
       "      <th>PubchemFP819</th>\n",
       "      <th>PubchemFP821</th>\n",
       "    </tr>\n",
       "  </thead>\n",
       "  <tbody>\n",
       "    <tr>\n",
       "      <th>0</th>\n",
       "      <td>1.0</td>\n",
       "      <td>0.0</td>\n",
       "      <td>0.0</td>\n",
       "      <td>0.0</td>\n",
       "      <td>1.0</td>\n",
       "      <td>0.0</td>\n",
       "      <td>0.0</td>\n",
       "      <td>0.0</td>\n",
       "      <td>0.0</td>\n",
       "      <td>0.0</td>\n",
       "      <td>...</td>\n",
       "      <td>0.0</td>\n",
       "      <td>1.0</td>\n",
       "      <td>0.0</td>\n",
       "      <td>0.0</td>\n",
       "      <td>0.0</td>\n",
       "      <td>0.0</td>\n",
       "      <td>0.0</td>\n",
       "      <td>0.0</td>\n",
       "      <td>1.0</td>\n",
       "      <td>0.0</td>\n",
       "    </tr>\n",
       "    <tr>\n",
       "      <th>1</th>\n",
       "      <td>1.0</td>\n",
       "      <td>1.0</td>\n",
       "      <td>0.0</td>\n",
       "      <td>0.0</td>\n",
       "      <td>1.0</td>\n",
       "      <td>0.0</td>\n",
       "      <td>0.0</td>\n",
       "      <td>0.0</td>\n",
       "      <td>0.0</td>\n",
       "      <td>0.0</td>\n",
       "      <td>...</td>\n",
       "      <td>0.0</td>\n",
       "      <td>1.0</td>\n",
       "      <td>0.0</td>\n",
       "      <td>0.0</td>\n",
       "      <td>0.0</td>\n",
       "      <td>0.0</td>\n",
       "      <td>0.0</td>\n",
       "      <td>0.0</td>\n",
       "      <td>1.0</td>\n",
       "      <td>0.0</td>\n",
       "    </tr>\n",
       "    <tr>\n",
       "      <th>2</th>\n",
       "      <td>1.0</td>\n",
       "      <td>0.0</td>\n",
       "      <td>0.0</td>\n",
       "      <td>0.0</td>\n",
       "      <td>1.0</td>\n",
       "      <td>0.0</td>\n",
       "      <td>0.0</td>\n",
       "      <td>0.0</td>\n",
       "      <td>0.0</td>\n",
       "      <td>0.0</td>\n",
       "      <td>...</td>\n",
       "      <td>0.0</td>\n",
       "      <td>1.0</td>\n",
       "      <td>0.0</td>\n",
       "      <td>0.0</td>\n",
       "      <td>0.0</td>\n",
       "      <td>0.0</td>\n",
       "      <td>0.0</td>\n",
       "      <td>0.0</td>\n",
       "      <td>1.0</td>\n",
       "      <td>0.0</td>\n",
       "    </tr>\n",
       "    <tr>\n",
       "      <th>3</th>\n",
       "      <td>0.0</td>\n",
       "      <td>0.0</td>\n",
       "      <td>0.0</td>\n",
       "      <td>0.0</td>\n",
       "      <td>0.0</td>\n",
       "      <td>1.0</td>\n",
       "      <td>0.0</td>\n",
       "      <td>0.0</td>\n",
       "      <td>0.0</td>\n",
       "      <td>0.0</td>\n",
       "      <td>...</td>\n",
       "      <td>0.0</td>\n",
       "      <td>0.0</td>\n",
       "      <td>0.0</td>\n",
       "      <td>0.0</td>\n",
       "      <td>0.0</td>\n",
       "      <td>0.0</td>\n",
       "      <td>0.0</td>\n",
       "      <td>0.0</td>\n",
       "      <td>0.0</td>\n",
       "      <td>0.0</td>\n",
       "    </tr>\n",
       "    <tr>\n",
       "      <th>4</th>\n",
       "      <td>0.0</td>\n",
       "      <td>0.0</td>\n",
       "      <td>0.0</td>\n",
       "      <td>0.0</td>\n",
       "      <td>1.0</td>\n",
       "      <td>1.0</td>\n",
       "      <td>0.0</td>\n",
       "      <td>0.0</td>\n",
       "      <td>0.0</td>\n",
       "      <td>0.0</td>\n",
       "      <td>...</td>\n",
       "      <td>0.0</td>\n",
       "      <td>0.0</td>\n",
       "      <td>0.0</td>\n",
       "      <td>0.0</td>\n",
       "      <td>0.0</td>\n",
       "      <td>0.0</td>\n",
       "      <td>0.0</td>\n",
       "      <td>0.0</td>\n",
       "      <td>0.0</td>\n",
       "      <td>0.0</td>\n",
       "    </tr>\n",
       "  </tbody>\n",
       "</table>\n",
       "<p>5 rows × 186 columns</p>\n",
       "</div>"
      ],
      "text/plain": [
       "   PubchemFP2  PubchemFP3  PubchemFP15  PubchemFP16  PubchemFP20  PubchemFP33  \\\n",
       "0         1.0         0.0          0.0          0.0          1.0          0.0   \n",
       "1         1.0         1.0          0.0          0.0          1.0          0.0   \n",
       "2         1.0         0.0          0.0          0.0          1.0          0.0   \n",
       "3         0.0         0.0          0.0          0.0          0.0          1.0   \n",
       "4         0.0         0.0          0.0          0.0          1.0          1.0   \n",
       "\n",
       "   PubchemFP143  PubchemFP145  PubchemFP146  PubchemFP150  ...  PubchemFP735  \\\n",
       "0           0.0           0.0           0.0           0.0  ...           0.0   \n",
       "1           0.0           0.0           0.0           0.0  ...           0.0   \n",
       "2           0.0           0.0           0.0           0.0  ...           0.0   \n",
       "3           0.0           0.0           0.0           0.0  ...           0.0   \n",
       "4           0.0           0.0           0.0           0.0  ...           0.0   \n",
       "\n",
       "   PubchemFP756  PubchemFP758  PubchemFP776  PubchemFP777  PubchemFP797  \\\n",
       "0           1.0           0.0           0.0           0.0           0.0   \n",
       "1           1.0           0.0           0.0           0.0           0.0   \n",
       "2           1.0           0.0           0.0           0.0           0.0   \n",
       "3           0.0           0.0           0.0           0.0           0.0   \n",
       "4           0.0           0.0           0.0           0.0           0.0   \n",
       "\n",
       "   PubchemFP798  PubchemFP818  PubchemFP819  PubchemFP821  \n",
       "0           0.0           0.0           1.0           0.0  \n",
       "1           0.0           0.0           1.0           0.0  \n",
       "2           0.0           0.0           1.0           0.0  \n",
       "3           0.0           0.0           0.0           0.0  \n",
       "4           0.0           0.0           0.0           0.0  \n",
       "\n",
       "[5 rows x 186 columns]"
      ]
     },
     "execution_count": 6,
     "metadata": {},
     "output_type": "execute_result"
    }
   ],
   "source": [
    "X.head()"
   ]
  },
  {
   "cell_type": "code",
   "execution_count": 7,
   "metadata": {
    "ExecuteTime": {
     "end_time": "2021-07-26T22:33:50.494601Z",
     "start_time": "2021-07-26T22:33:50.490102Z"
    }
   },
   "outputs": [
    {
     "data": {
      "text/plain": [
       "((14584, 186), (14584,))"
      ]
     },
     "execution_count": 7,
     "metadata": {},
     "output_type": "execute_result"
    }
   ],
   "source": [
    "X_train.shape, y_train.shape"
   ]
  },
  {
   "cell_type": "code",
   "execution_count": 8,
   "metadata": {
    "ExecuteTime": {
     "end_time": "2021-07-26T22:33:50.504847Z",
     "start_time": "2021-07-26T22:33:50.498760Z"
    }
   },
   "outputs": [
    {
     "data": {
      "text/plain": [
       "((3647, 186), (3647,))"
      ]
     },
     "execution_count": 8,
     "metadata": {},
     "output_type": "execute_result"
    }
   ],
   "source": [
    "X_test.shape, y_test.shape"
   ]
  },
  {
   "cell_type": "code",
   "execution_count": null,
   "metadata": {},
   "outputs": [],
   "source": []
  },
  {
   "cell_type": "markdown",
   "metadata": {},
   "source": [
    "## Model building "
   ]
  },
  {
   "cell_type": "markdown",
   "metadata": {},
   "source": [
    "### Random Forest"
   ]
  },
  {
   "cell_type": "code",
   "execution_count": 9,
   "metadata": {
    "ExecuteTime": {
     "end_time": "2021-07-26T22:34:16.045144Z",
     "start_time": "2021-07-26T22:33:50.507864Z"
    }
   },
   "outputs": [
    {
     "data": {
      "text/plain": [
       "RandomForestRegressor(random_state=42)"
      ]
     },
     "execution_count": 9,
     "metadata": {},
     "output_type": "execute_result"
    }
   ],
   "source": [
    "forest_reg = RandomForestRegressor(n_estimators=100, random_state=42)\n",
    "forest_reg.fit(X_train, y_train)"
   ]
  },
  {
   "cell_type": "code",
   "execution_count": 10,
   "metadata": {
    "ExecuteTime": {
     "end_time": "2021-07-26T22:34:16.206736Z",
     "start_time": "2021-07-26T22:34:16.046878Z"
    }
   },
   "outputs": [
    {
     "data": {
      "text/plain": [
       "0.6335935766203742"
      ]
     },
     "execution_count": 10,
     "metadata": {},
     "output_type": "execute_result"
    }
   ],
   "source": [
    "r_square_forest_reg = forest_reg.score(X_test, y_test)\n",
    "r_square_forest_reg"
   ]
  },
  {
   "cell_type": "code",
   "execution_count": 11,
   "metadata": {
    "ExecuteTime": {
     "end_time": "2021-07-26T22:34:16.370829Z",
     "start_time": "2021-07-26T22:34:16.208920Z"
    }
   },
   "outputs": [
    {
     "data": {
      "text/plain": [
       "array([5.40249573, 5.02066318, 4.46553824, ..., 7.36483375, 4.95608151,\n",
       "       7.33065767])"
      ]
     },
     "execution_count": 11,
     "metadata": {},
     "output_type": "execute_result"
    }
   ],
   "source": [
    "forest_reg_predictions = forest_reg.predict(X_test)\n",
    "forest_reg_predictions"
   ]
  },
  {
   "cell_type": "code",
   "execution_count": 12,
   "metadata": {
    "ExecuteTime": {
     "end_time": "2021-07-26T22:34:16.378413Z",
     "start_time": "2021-07-26T22:34:16.373360Z"
    }
   },
   "outputs": [
    {
     "name": "stdout",
     "output_type": "stream",
     "text": [
      "Predictions: [5.40249573 5.02066318 4.46553824 5.41173296 5.13737553 5.99993839\n",
      " 5.35093634 4.42007113 5.6224371  4.63656695] \n",
      "\n",
      "Labels: [6.45099674 4.39999997 4.         4.         4.42945706 4.03329522\n",
      " 4.06048075 4.74763249 4.65013992 4.35066514]\n"
     ]
    }
   ],
   "source": [
    "print(\"Predictions:\", forest_reg_predictions[:10], '\\n')\n",
    "print(\"Labels:\", np.array(y_train[:10]))"
   ]
  },
  {
   "cell_type": "code",
   "execution_count": 13,
   "metadata": {
    "ExecuteTime": {
     "end_time": "2021-07-26T22:34:16.387361Z",
     "start_time": "2021-07-26T22:34:16.380462Z"
    }
   },
   "outputs": [
    {
     "data": {
      "text/plain": [
       "[(5.402495726476326, 6.450996737974213),\n",
       " (5.02066318130816, 4.399999967876858),\n",
       " (4.465538242333221, 4.0),\n",
       " (5.411732964186887, 4.0),\n",
       " (5.13737553155142, 4.429457060118104),\n",
       " (5.999938388710852, 4.033295223342125),\n",
       " (5.350936335409454, 4.060480747381382),\n",
       " (4.420071129660792, 4.747632485540102),\n",
       " (5.6224371035772265, 4.6501399178076674),\n",
       " (4.636566946966265, 4.350665141287858)]"
      ]
     },
     "execution_count": 13,
     "metadata": {},
     "output_type": "execute_result"
    }
   ],
   "source": [
    "comparison_forest_reg  = list(zip(list(forest_reg_predictions[:10]), list(y_train[:10])))\n",
    "comparison_forest_reg"
   ]
  },
  {
   "cell_type": "code",
   "execution_count": 14,
   "metadata": {
    "ExecuteTime": {
     "end_time": "2021-07-26T22:34:16.394096Z",
     "start_time": "2021-07-26T22:34:16.389758Z"
    }
   },
   "outputs": [
    {
     "data": {
      "text/plain": [
       "6.504157496838147"
      ]
     },
     "execution_count": 14,
     "metadata": {},
     "output_type": "execute_result"
    }
   ],
   "source": [
    "100 - ((5.705464963682704 / 6.102372908709557) * 100)"
   ]
  },
  {
   "cell_type": "markdown",
   "metadata": {},
   "source": [
    "### Percentage difference from actual values for first 10 samples"
   ]
  },
  {
   "cell_type": "code",
   "execution_count": 15,
   "metadata": {
    "ExecuteTime": {
     "end_time": "2021-07-26T22:34:16.401308Z",
     "start_time": "2021-07-26T22:34:16.396489Z"
    }
   },
   "outputs": [
    {
     "name": "stdout",
     "output_type": "stream",
     "text": [
      "16.25\n",
      "14.11\n",
      "11.64\n",
      "35.29\n",
      "15.98\n",
      "48.76\n",
      "31.78\n",
      "6.90\n",
      "20.91\n",
      "6.57\n"
     ]
    }
   ],
   "source": [
    "for x in comparison_forest_reg:\n",
    "#     print(x)\n",
    "    print(f'{(abs((100 - (x[0]/x[1])*100))):0.2f}')"
   ]
  },
  {
   "cell_type": "markdown",
   "metadata": {},
   "source": [
    "### Model's `RMSE`"
   ]
  },
  {
   "cell_type": "code",
   "execution_count": 16,
   "metadata": {
    "ExecuteTime": {
     "end_time": "2021-07-26T22:34:16.408920Z",
     "start_time": "2021-07-26T22:34:16.403598Z"
    }
   },
   "outputs": [
    {
     "data": {
      "text/plain": [
       "0.7362754628330616"
      ]
     },
     "execution_count": 16,
     "metadata": {},
     "output_type": "execute_result"
    }
   ],
   "source": [
    "forest_reg_mse = mean_squared_error(y_test, forest_reg_predictions)\n",
    "forest_reg_rmse = np.sqrt(forest_reg_mse)\n",
    "forest_reg_rmse"
   ]
  },
  {
   "cell_type": "markdown",
   "metadata": {},
   "source": [
    "### Better evaluation with Cross-Validation"
   ]
  },
  {
   "cell_type": "code",
   "execution_count": 17,
   "metadata": {
    "ExecuteTime": {
     "end_time": "2021-07-26T22:35:54.619218Z",
     "start_time": "2021-07-26T22:34:16.411916Z"
    }
   },
   "outputs": [],
   "source": [
    "forest_reg_scores = cross_val_score(forest_reg,\n",
    "                                    X_train,\n",
    "                                    y_train,\n",
    "                                    scoring='neg_mean_squared_error',\n",
    "                                    cv=5)\n",
    "\n",
    "forest_reg_rmse_scores = (np.sqrt(-forest_reg_scores))"
   ]
  },
  {
   "cell_type": "code",
   "execution_count": null,
   "metadata": {},
   "outputs": [],
   "source": []
  },
  {
   "cell_type": "code",
   "execution_count": 18,
   "metadata": {
    "ExecuteTime": {
     "end_time": "2021-07-26T22:35:54.624632Z",
     "start_time": "2021-07-26T22:35:54.621322Z"
    }
   },
   "outputs": [
    {
     "name": "stdout",
     "output_type": "stream",
     "text": [
      "scores: [0.7783471  0.81366865 0.75786389 0.77895527 0.73408508]\n",
      "mean: 0.772583999968744\n",
      "standard deviation: 0.02630818613029318\n"
     ]
    }
   ],
   "source": [
    "display_scores(forest_reg_rmse_scores)"
   ]
  },
  {
   "cell_type": "code",
   "execution_count": null,
   "metadata": {},
   "outputs": [],
   "source": []
  },
  {
   "cell_type": "markdown",
   "metadata": {},
   "source": [
    "## DecisionTreeRegressor"
   ]
  },
  {
   "cell_type": "code",
   "execution_count": 19,
   "metadata": {
    "ExecuteTime": {
     "end_time": "2021-07-26T22:35:55.153883Z",
     "start_time": "2021-07-26T22:35:54.627045Z"
    }
   },
   "outputs": [
    {
     "data": {
      "text/plain": [
       "DecisionTreeRegressor(random_state=42)"
      ]
     },
     "execution_count": 19,
     "metadata": {},
     "output_type": "execute_result"
    }
   ],
   "source": [
    "tree_reg = DecisionTreeRegressor(random_state=42)\n",
    "tree_reg.fit(X_train, y_train)"
   ]
  },
  {
   "cell_type": "code",
   "execution_count": 20,
   "metadata": {
    "ExecuteTime": {
     "end_time": "2021-07-26T22:35:55.167826Z",
     "start_time": "2021-07-26T22:35:55.155775Z"
    }
   },
   "outputs": [],
   "source": [
    "r_square_tree_reg = tree_reg.score(X_test, y_test)"
   ]
  },
  {
   "cell_type": "code",
   "execution_count": 21,
   "metadata": {
    "ExecuteTime": {
     "end_time": "2021-07-26T22:35:55.182003Z",
     "start_time": "2021-07-26T22:35:55.170329Z"
    }
   },
   "outputs": [
    {
     "data": {
      "text/plain": [
       "array([6.52287875, 5.0418599 , 3.        , ..., 8.09301885, 4.        ,\n",
       "       6.8256494 ])"
      ]
     },
     "execution_count": 21,
     "metadata": {},
     "output_type": "execute_result"
    }
   ],
   "source": [
    "tree_reg_predictions = tree_reg.predict(X_test)\n",
    "tree_reg_predictions"
   ]
  },
  {
   "cell_type": "code",
   "execution_count": 22,
   "metadata": {
    "ExecuteTime": {
     "end_time": "2021-07-26T22:35:55.199671Z",
     "start_time": "2021-07-26T22:35:55.190927Z"
    }
   },
   "outputs": [
    {
     "data": {
      "text/plain": [
       "1.0168424531398281"
      ]
     },
     "execution_count": 22,
     "metadata": {},
     "output_type": "execute_result"
    }
   ],
   "source": [
    "tree_reg_mse = mean_squared_error(y_test, tree_reg_predictions)\n",
    "tree_reg_rmse = np.sqrt(tree_reg_mse)\n",
    "tree_reg_rmse"
   ]
  },
  {
   "cell_type": "markdown",
   "metadata": {},
   "source": [
    "**Cross-Validation**"
   ]
  },
  {
   "cell_type": "code",
   "execution_count": 23,
   "metadata": {
    "ExecuteTime": {
     "end_time": "2021-07-26T22:35:56.852416Z",
     "start_time": "2021-07-26T22:35:55.208195Z"
    }
   },
   "outputs": [
    {
     "name": "stdout",
     "output_type": "stream",
     "text": [
      "scores: [1.00743162 1.07541448 1.0622948  1.06215357 0.95420316]\n",
      "mean: 1.0322995272319102\n",
      "standard deviation: 0.04553533868175562\n"
     ]
    }
   ],
   "source": [
    "tree_reg_scores = cross_val_score(tree_reg,\n",
    "                                 X_train,\n",
    "                                 y_train,\n",
    "                                 scoring='neg_mean_squared_error',\n",
    "                                 cv=5)\n",
    "\n",
    "tree_reg_rmse_scores = (np.sqrt(-tree_reg_scores))\n",
    "\n",
    "display_scores(tree_reg_rmse_scores)"
   ]
  },
  {
   "cell_type": "markdown",
   "metadata": {},
   "source": [
    "### Linear Regression"
   ]
  },
  {
   "cell_type": "code",
   "execution_count": 24,
   "metadata": {
    "ExecuteTime": {
     "end_time": "2021-07-26T22:35:56.991767Z",
     "start_time": "2021-07-26T22:35:56.855092Z"
    }
   },
   "outputs": [
    {
     "data": {
      "text/plain": [
       "LinearRegression()"
      ]
     },
     "execution_count": 24,
     "metadata": {},
     "output_type": "execute_result"
    }
   ],
   "source": [
    "np.random.seed(42)\n",
    "\n",
    "lin_reg = LinearRegression()\n",
    "lin_reg.fit(X_train, y_train)"
   ]
  },
  {
   "cell_type": "code",
   "execution_count": 25,
   "metadata": {
    "ExecuteTime": {
     "end_time": "2021-07-26T22:35:57.003507Z",
     "start_time": "2021-07-26T22:35:56.993598Z"
    }
   },
   "outputs": [
    {
     "data": {
      "text/plain": [
       "0.1037248398599816"
      ]
     },
     "execution_count": 25,
     "metadata": {},
     "output_type": "execute_result"
    }
   ],
   "source": [
    "r_square_lin_reg = lin_reg.score(X_test, y_test)\n",
    "r_square_lin_reg"
   ]
  },
  {
   "cell_type": "code",
   "execution_count": 26,
   "metadata": {
    "ExecuteTime": {
     "end_time": "2021-07-26T22:35:57.014557Z",
     "start_time": "2021-07-26T22:35:57.005476Z"
    }
   },
   "outputs": [
    {
     "data": {
      "text/plain": [
       "array([5.86172285, 5.55693255, 5.06109825, ..., 5.983188  , 4.90458897,\n",
       "       6.43679329])"
      ]
     },
     "execution_count": 26,
     "metadata": {},
     "output_type": "execute_result"
    }
   ],
   "source": [
    "lin_reg_predictions = lin_reg.predict(X_test)\n",
    "lin_reg_predictions"
   ]
  },
  {
   "cell_type": "code",
   "execution_count": 27,
   "metadata": {
    "ExecuteTime": {
     "end_time": "2021-07-26T22:35:57.035532Z",
     "start_time": "2021-07-26T22:35:57.016673Z"
    }
   },
   "outputs": [
    {
     "data": {
      "text/plain": [
       "1.1515411666861033"
      ]
     },
     "execution_count": 27,
     "metadata": {},
     "output_type": "execute_result"
    }
   ],
   "source": [
    "lin_reg_mse = mean_squared_error(y_test, lin_reg_predictions)\n",
    "lin_reg_rmse = np.sqrt(lin_reg_mse)\n",
    "lin_reg_rmse"
   ]
  },
  {
   "cell_type": "markdown",
   "metadata": {},
   "source": [
    "### Better evaluation with Cross-Validation"
   ]
  },
  {
   "cell_type": "code",
   "execution_count": 28,
   "metadata": {
    "ExecuteTime": {
     "end_time": "2021-07-26T22:35:57.623986Z",
     "start_time": "2021-07-26T22:35:57.037495Z"
    }
   },
   "outputs": [],
   "source": [
    "lin_reg_scores = cross_val_score(lin_reg,\n",
    "                                    X_train,\n",
    "                                    y_train,\n",
    "                                    scoring='neg_mean_squared_error',\n",
    "                                    cv=5)\n",
    "\n",
    "lin_reg_rmse_scores = (np.sqrt(-lin_reg_scores))"
   ]
  },
  {
   "cell_type": "code",
   "execution_count": 29,
   "metadata": {
    "ExecuteTime": {
     "end_time": "2021-07-26T22:35:57.629241Z",
     "start_time": "2021-07-26T22:35:57.625797Z"
    }
   },
   "outputs": [
    {
     "name": "stdout",
     "output_type": "stream",
     "text": [
      "scores: [1.17482499 1.21897356 1.18118126 1.1680006  1.15758939]\n",
      "mean: 1.1801139607482394\n",
      "standard deviation: 0.020944068311380667\n"
     ]
    }
   ],
   "source": [
    "display_scores(lin_reg_rmse_scores)"
   ]
  },
  {
   "cell_type": "markdown",
   "metadata": {},
   "source": [
    "## Fine-tune your model"
   ]
  },
  {
   "cell_type": "markdown",
   "metadata": {},
   "source": [
    "### Grid search"
   ]
  },
  {
   "cell_type": "code",
   "execution_count": 30,
   "metadata": {
    "ExecuteTime": {
     "end_time": "2021-07-26T22:36:44.568106Z",
     "start_time": "2021-07-26T22:35:57.631500Z"
    }
   },
   "outputs": [
    {
     "data": {
      "text/plain": [
       "GridSearchCV(cv=5, estimator=RandomForestRegressor(random_state=42),\n",
       "             param_grid=[{'max_features': [2, 4, 6, 8],\n",
       "                          'n_estimators': [3, 10, 30]},\n",
       "                         {'bootstrap': [False], 'max_features': [2, 3, 4],\n",
       "                          'n_estimators': [3, 10]}],\n",
       "             return_train_score=True, scoring='neg_mean_squared_error')"
      ]
     },
     "execution_count": 30,
     "metadata": {},
     "output_type": "execute_result"
    }
   ],
   "source": [
    "param_grid_1 = [\n",
    "    # try 12 (3x4) combinations of hyperparameters\n",
    "    {'n_estimators': [3, 10, 30], 'max_features': [2, 4, 6, 8]},\n",
    "    # then try 6 (2x3) combinations with bootstrap set as False\n",
    "    {'bootstrap': [False], 'n_estimators': [3, 10], 'max_features': [2,3,4]}\n",
    "]\n",
    "\n",
    "# train across 5 folds, that's a total of (12+6)*5=90 rounds of training\n",
    "\n",
    "grid_search_1 = GridSearchCV(forest_reg,\n",
    "                             param_grid_1,\n",
    "                             cv=5,\n",
    "                             scoring='neg_mean_squared_error',\n",
    "                             return_train_score=True)\n",
    "\n",
    "grid_search_1.fit(X_train, y_train)"
   ]
  },
  {
   "cell_type": "code",
   "execution_count": 31,
   "metadata": {
    "ExecuteTime": {
     "end_time": "2021-07-26T22:36:44.573132Z",
     "start_time": "2021-07-26T22:36:44.569613Z"
    }
   },
   "outputs": [
    {
     "data": {
      "text/plain": [
       "{'max_features': 8, 'n_estimators': 30}"
      ]
     },
     "execution_count": 31,
     "metadata": {},
     "output_type": "execute_result"
    }
   ],
   "source": [
    "grid_search_1.best_params_"
   ]
  },
  {
   "cell_type": "code",
   "execution_count": 32,
   "metadata": {
    "ExecuteTime": {
     "end_time": "2021-07-26T22:36:44.580296Z",
     "start_time": "2021-07-26T22:36:44.575811Z"
    }
   },
   "outputs": [
    {
     "data": {
      "text/plain": [
       "RandomForestRegressor(max_features=8, n_estimators=30, random_state=42)"
      ]
     },
     "execution_count": 32,
     "metadata": {},
     "output_type": "execute_result"
    }
   ],
   "source": [
    "grid_search_1.best_estimator_"
   ]
  },
  {
   "cell_type": "code",
   "execution_count": 33,
   "metadata": {
    "ExecuteTime": {
     "end_time": "2021-07-26T22:36:44.584762Z",
     "start_time": "2021-07-26T22:36:44.582545Z"
    }
   },
   "outputs": [],
   "source": [
    "cvres_1 = grid_search_1.cv_results_"
   ]
  },
  {
   "cell_type": "code",
   "execution_count": 34,
   "metadata": {
    "ExecuteTime": {
     "end_time": "2021-07-26T22:36:44.590653Z",
     "start_time": "2021-07-26T22:36:44.586516Z"
    }
   },
   "outputs": [
    {
     "data": {
      "text/plain": [
       "array([-0.8579725 , -0.69204742, -0.64221696, -0.87357846, -0.68481318,\n",
       "       -0.63488047, -0.88320527, -0.68502972, -0.62973952, -0.81638928,\n",
       "       -0.6671986 , -0.62673661, -0.799471  , -0.66680695, -0.78240883,\n",
       "       -0.65674834, -0.77932604, -0.66413557])"
      ]
     },
     "execution_count": 34,
     "metadata": {},
     "output_type": "execute_result"
    }
   ],
   "source": [
    "cvres_1.get('mean_test_score')"
   ]
  },
  {
   "cell_type": "markdown",
   "metadata": {},
   "source": [
    "**Best score `grid_search_1`**"
   ]
  },
  {
   "cell_type": "code",
   "execution_count": 35,
   "metadata": {
    "ExecuteTime": {
     "end_time": "2021-07-26T22:36:44.597638Z",
     "start_time": "2021-07-26T22:36:44.592940Z"
    }
   },
   "outputs": [
    {
     "data": {
      "text/plain": [
       "0.7916669839051584"
      ]
     },
     "execution_count": 35,
     "metadata": {},
     "output_type": "execute_result"
    }
   ],
   "source": [
    "mean_test_score_cvres_1 = np.sqrt(-(cvres_1[\"mean_test_score\"]))\n",
    "best_cvres_1_loc = np.argmin(mean_test_score_cvres_1)\n",
    "best_cvres_1_score = mean_test_score_cvres_1[best_cvres_1_loc]\n",
    "best_cvres_1_score"
   ]
  },
  {
   "cell_type": "code",
   "execution_count": null,
   "metadata": {},
   "outputs": [],
   "source": []
  },
  {
   "cell_type": "code",
   "execution_count": 36,
   "metadata": {
    "ExecuteTime": {
     "end_time": "2021-07-26T22:41:15.351300Z",
     "start_time": "2021-07-26T22:36:44.599859Z"
    }
   },
   "outputs": [
    {
     "data": {
      "text/plain": [
       "GridSearchCV(cv=5, estimator=RandomForestRegressor(random_state=42),\n",
       "             param_grid=[{'max_features': [8, 10, 12, 14],\n",
       "                          'n_estimators': [30, 50, 70, 100]},\n",
       "                         {'bootstrap': [False], 'max_features': [4, 5, 6],\n",
       "                          'n_estimators': [30, 40]}],\n",
       "             return_train_score=True, scoring='neg_mean_squared_error')"
      ]
     },
     "execution_count": 36,
     "metadata": {},
     "output_type": "execute_result"
    }
   ],
   "source": [
    "param_grid_2 = [\n",
    "    # try 16 (4x4) combinations of hyperparameters\n",
    "    {\"n_estimators\": [30, 50, 70, 100], \"max_features\": [8, 10, 12, 14]},\n",
    "    # then try 6 (2x3) combinations with bootstrap set as False\n",
    "    {\"bootstrap\": [False], \"n_estimators\": [30, 40], \"max_features\": [4, 5, 6]},\n",
    "]\n",
    "\n",
    "\n",
    "# train across 5 folds, that's a total of (16+6)*5=110 rounds of training\n",
    "grid_search_2 = GridSearchCV(forest_reg,\n",
    "                             param_grid_2,\n",
    "                             cv=5,\n",
    "                             scoring=\"neg_mean_squared_error\",\n",
    "                             return_train_score=True)\n",
    "\n",
    "grid_search_2.fit(X_train, y_train)"
   ]
  },
  {
   "cell_type": "code",
   "execution_count": 37,
   "metadata": {
    "ExecuteTime": {
     "end_time": "2021-07-26T22:41:15.356372Z",
     "start_time": "2021-07-26T22:41:15.353139Z"
    }
   },
   "outputs": [
    {
     "data": {
      "text/plain": [
       "{'max_features': 14, 'n_estimators': 100}"
      ]
     },
     "execution_count": 37,
     "metadata": {},
     "output_type": "execute_result"
    }
   ],
   "source": [
    "grid_search_2.best_params_"
   ]
  },
  {
   "cell_type": "code",
   "execution_count": 38,
   "metadata": {
    "ExecuteTime": {
     "end_time": "2021-07-26T22:41:15.361454Z",
     "start_time": "2021-07-26T22:41:15.359001Z"
    }
   },
   "outputs": [],
   "source": [
    "cvres_2 = grid_search_2.cv_results_"
   ]
  },
  {
   "cell_type": "code",
   "execution_count": 39,
   "metadata": {
    "ExecuteTime": {
     "end_time": "2021-07-26T22:41:15.367399Z",
     "start_time": "2021-07-26T22:41:15.363307Z"
    }
   },
   "outputs": [
    {
     "data": {
      "text/plain": [
       "array([-0.62673661, -0.61955812, -0.61581059, -0.61197869, -0.61894455,\n",
       "       -0.61507281, -0.61240433, -0.6114376 , -0.62280693, -0.61532853,\n",
       "       -0.61069652, -0.60709806, -0.62506052, -0.61368472, -0.60994225,\n",
       "       -0.60614524, -0.62086574, -0.61691333, -0.62505684, -0.62056972,\n",
       "       -0.62100732, -0.61850634])"
      ]
     },
     "execution_count": 39,
     "metadata": {},
     "output_type": "execute_result"
    }
   ],
   "source": [
    "cvres_2.get('mean_test_score')"
   ]
  },
  {
   "cell_type": "markdown",
   "metadata": {
    "ExecuteTime": {
     "end_time": "2021-07-23T22:53:48.852449Z",
     "start_time": "2021-07-23T22:53:48.847901Z"
    }
   },
   "source": [
    "**Best score `grid_search_2`**"
   ]
  },
  {
   "cell_type": "code",
   "execution_count": 40,
   "metadata": {
    "ExecuteTime": {
     "end_time": "2021-07-26T22:41:15.373379Z",
     "start_time": "2021-07-26T22:41:15.369449Z"
    }
   },
   "outputs": [
    {
     "data": {
      "text/plain": [
       "0.7785532981786982"
      ]
     },
     "execution_count": 40,
     "metadata": {},
     "output_type": "execute_result"
    }
   ],
   "source": [
    "mean_test_score_cvres_2 = np.sqrt(-(cvres_2[\"mean_test_score\"]))\n",
    "best_cvres_2_loc = np.argmin(mean_test_score_cvres_2)\n",
    "best_cvres_2_score = mean_test_score_cvres_2[best_cvres_2_loc]\n",
    "best_cvres_2_score"
   ]
  },
  {
   "cell_type": "markdown",
   "metadata": {},
   "source": [
    " "
   ]
  },
  {
   "cell_type": "markdown",
   "metadata": {},
   "source": [
    "## Can do further grid searches to get better scores. Another way is to use a `RandomizedSearchCV`, especially if the hyperparameter search space is large"
   ]
  },
  {
   "cell_type": "code",
   "execution_count": 41,
   "metadata": {
    "ExecuteTime": {
     "end_time": "2021-07-26T22:45:17.041164Z",
     "start_time": "2021-07-26T22:41:15.375417Z"
    }
   },
   "outputs": [
    {
     "name": "stdout",
     "output_type": "stream",
     "text": [
      "Fitting 5 folds for each of 10 candidates, totalling 50 fits\n",
      "[CV] max_features=7, n_estimators=180 ................................\n"
     ]
    },
    {
     "name": "stderr",
     "output_type": "stream",
     "text": [
      "[Parallel(n_jobs=1)]: Using backend SequentialBackend with 1 concurrent workers.\n"
     ]
    },
    {
     "name": "stdout",
     "output_type": "stream",
     "text": [
      "[CV] ................. max_features=7, n_estimators=180, total=   6.8s\n",
      "[CV] max_features=7, n_estimators=180 ................................\n"
     ]
    },
    {
     "name": "stderr",
     "output_type": "stream",
     "text": [
      "[Parallel(n_jobs=1)]: Done   1 out of   1 | elapsed:    6.8s remaining:    0.0s\n"
     ]
    },
    {
     "name": "stdout",
     "output_type": "stream",
     "text": [
      "[CV] ................. max_features=7, n_estimators=180, total=   6.3s\n",
      "[CV] max_features=7, n_estimators=180 ................................\n",
      "[CV] ................. max_features=7, n_estimators=180, total=   6.4s\n",
      "[CV] max_features=7, n_estimators=180 ................................\n",
      "[CV] ................. max_features=7, n_estimators=180, total=   6.5s\n",
      "[CV] max_features=7, n_estimators=180 ................................\n",
      "[CV] ................. max_features=7, n_estimators=180, total=   5.9s\n",
      "[CV] max_features=15, n_estimators=107 ...............................\n",
      "[CV] ................ max_features=15, n_estimators=107, total=   4.1s\n",
      "[CV] max_features=15, n_estimators=107 ...............................\n",
      "[CV] ................ max_features=15, n_estimators=107, total=   4.7s\n",
      "[CV] max_features=15, n_estimators=107 ...............................\n",
      "[CV] ................ max_features=15, n_estimators=107, total=   5.0s\n",
      "[CV] max_features=15, n_estimators=107 ...............................\n",
      "[CV] ................ max_features=15, n_estimators=107, total=   4.5s\n",
      "[CV] max_features=15, n_estimators=107 ...............................\n",
      "[CV] ................ max_features=15, n_estimators=107, total=   4.4s\n",
      "[CV] max_features=8, n_estimators=189 ................................\n",
      "[CV] ................. max_features=8, n_estimators=189, total=   6.5s\n",
      "[CV] max_features=8, n_estimators=189 ................................\n",
      "[CV] ................. max_features=8, n_estimators=189, total=   6.6s\n",
      "[CV] max_features=8, n_estimators=189 ................................\n",
      "[CV] ................. max_features=8, n_estimators=189, total=   6.8s\n",
      "[CV] max_features=8, n_estimators=189 ................................\n",
      "[CV] ................. max_features=8, n_estimators=189, total=   6.6s\n",
      "[CV] max_features=8, n_estimators=189 ................................\n",
      "[CV] ................. max_features=8, n_estimators=189, total=   7.4s\n",
      "[CV] max_features=7, n_estimators=122 ................................\n",
      "[CV] ................. max_features=7, n_estimators=122, total=   4.5s\n",
      "[CV] max_features=7, n_estimators=122 ................................\n",
      "[CV] ................. max_features=7, n_estimators=122, total=   4.2s\n",
      "[CV] max_features=7, n_estimators=122 ................................\n",
      "[CV] ................. max_features=7, n_estimators=122, total=   4.6s\n",
      "[CV] max_features=7, n_estimators=122 ................................\n",
      "[CV] ................. max_features=7, n_estimators=122, total=   4.9s\n",
      "[CV] max_features=7, n_estimators=122 ................................\n",
      "[CV] ................. max_features=7, n_estimators=122, total=   5.1s\n",
      "[CV] max_features=19, n_estimators=75 ................................\n",
      "[CV] ................. max_features=19, n_estimators=75, total=   3.8s\n",
      "[CV] max_features=19, n_estimators=75 ................................\n",
      "[CV] ................. max_features=19, n_estimators=75, total=   3.7s\n",
      "[CV] max_features=19, n_estimators=75 ................................\n",
      "[CV] ................. max_features=19, n_estimators=75, total=   3.3s\n",
      "[CV] max_features=19, n_estimators=75 ................................\n",
      "[CV] ................. max_features=19, n_estimators=75, total=   3.2s\n",
      "[CV] max_features=19, n_estimators=75 ................................\n",
      "[CV] ................. max_features=19, n_estimators=75, total=   3.7s\n",
      "[CV] max_features=11, n_estimators=88 ................................\n",
      "[CV] ................. max_features=11, n_estimators=88, total=   3.8s\n",
      "[CV] max_features=11, n_estimators=88 ................................\n",
      "[CV] ................. max_features=11, n_estimators=88, total=   3.5s\n",
      "[CV] max_features=11, n_estimators=88 ................................\n",
      "[CV] ................. max_features=11, n_estimators=88, total=   3.7s\n",
      "[CV] max_features=11, n_estimators=88 ................................\n",
      "[CV] ................. max_features=11, n_estimators=88, total=   4.0s\n",
      "[CV] max_features=11, n_estimators=88 ................................\n",
      "[CV] ................. max_features=11, n_estimators=88, total=   3.4s\n",
      "[CV] max_features=4, n_estimators=104 ................................\n",
      "[CV] ................. max_features=4, n_estimators=104, total=   3.5s\n",
      "[CV] max_features=4, n_estimators=104 ................................\n",
      "[CV] ................. max_features=4, n_estimators=104, total=   3.8s\n",
      "[CV] max_features=4, n_estimators=104 ................................\n",
      "[CV] ................. max_features=4, n_estimators=104, total=   3.7s\n",
      "[CV] max_features=4, n_estimators=104 ................................\n",
      "[CV] ................. max_features=4, n_estimators=104, total=   3.8s\n",
      "[CV] max_features=4, n_estimators=104 ................................\n",
      "[CV] ................. max_features=4, n_estimators=104, total=   3.9s\n",
      "[CV] max_features=3, n_estimators=150 ................................\n",
      "[CV] ................. max_features=3, n_estimators=150, total=   5.5s\n",
      "[CV] max_features=3, n_estimators=150 ................................\n",
      "[CV] ................. max_features=3, n_estimators=150, total=   4.7s\n",
      "[CV] max_features=3, n_estimators=150 ................................\n",
      "[CV] ................. max_features=3, n_estimators=150, total=   4.6s\n",
      "[CV] max_features=3, n_estimators=150 ................................\n",
      "[CV] ................. max_features=3, n_estimators=150, total=   4.5s\n",
      "[CV] max_features=3, n_estimators=150 ................................\n",
      "[CV] ................. max_features=3, n_estimators=150, total=   4.6s\n",
      "[CV] max_features=2, n_estimators=88 .................................\n",
      "[CV] .................. max_features=2, n_estimators=88, total=   2.6s\n",
      "[CV] max_features=2, n_estimators=88 .................................\n",
      "[CV] .................. max_features=2, n_estimators=88, total=   2.7s\n",
      "[CV] max_features=2, n_estimators=88 .................................\n",
      "[CV] .................. max_features=2, n_estimators=88, total=   2.6s\n",
      "[CV] max_features=2, n_estimators=88 .................................\n",
      "[CV] .................. max_features=2, n_estimators=88, total=   2.7s\n",
      "[CV] max_features=2, n_estimators=88 .................................\n",
      "[CV] .................. max_features=2, n_estimators=88, total=   2.9s\n",
      "[CV] max_features=12, n_estimators=158 ...............................\n",
      "[CV] ................ max_features=12, n_estimators=158, total=   6.6s\n",
      "[CV] max_features=12, n_estimators=158 ...............................\n",
      "[CV] ................ max_features=12, n_estimators=158, total=   6.5s\n",
      "[CV] max_features=12, n_estimators=158 ...............................\n",
      "[CV] ................ max_features=12, n_estimators=158, total=   6.5s\n",
      "[CV] max_features=12, n_estimators=158 ...............................\n",
      "[CV] ................ max_features=12, n_estimators=158, total=   6.2s\n",
      "[CV] max_features=12, n_estimators=158 ...............................\n",
      "[CV] ................ max_features=12, n_estimators=158, total=   5.9s\n"
     ]
    },
    {
     "name": "stderr",
     "output_type": "stream",
     "text": [
      "[Parallel(n_jobs=1)]: Done  50 out of  50 | elapsed:  3.9min finished\n"
     ]
    },
    {
     "data": {
      "text/plain": [
       "RandomizedSearchCV(cv=5, estimator=RandomForestRegressor(random_state=42),\n",
       "                   param_distributions={'max_features': <scipy.stats._distn_infrastructure.rv_frozen object at 0x7f97613a3a00>,\n",
       "                                        'n_estimators': <scipy.stats._distn_infrastructure.rv_frozen object at 0x7f97613a81c0>},\n",
       "                   random_state=42, scoring='neg_mean_squared_error',\n",
       "                   verbose=2)"
      ]
     },
     "execution_count": 41,
     "metadata": {},
     "output_type": "execute_result"
    }
   ],
   "source": [
    "param_distribs = {\n",
    "        \"n_estimators\": randint(low=1, high=200),\n",
    "        \"max_features\": randint(low=1, high=20),\n",
    "    }\n",
    "\n",
    "rnd_search = RandomizedSearchCV(forest_reg,\n",
    "                                param_distributions=param_distribs,\n",
    "                                n_iter=10,\n",
    "                                cv=5,\n",
    "                                scoring='neg_mean_squared_error',\n",
    "                                random_state=42,\n",
    "                                verbose=2\n",
    "                               )\n",
    "\n",
    "rnd_search.fit(X_train, y_train)"
   ]
  },
  {
   "cell_type": "code",
   "execution_count": 42,
   "metadata": {
    "ExecuteTime": {
     "end_time": "2021-07-26T22:45:17.049544Z",
     "start_time": "2021-07-26T22:45:17.043501Z"
    }
   },
   "outputs": [
    {
     "data": {
      "text/plain": [
       "{'max_features': 15, 'n_estimators': 107}"
      ]
     },
     "execution_count": 42,
     "metadata": {},
     "output_type": "execute_result"
    }
   ],
   "source": [
    "rnd_search.best_params_"
   ]
  },
  {
   "cell_type": "code",
   "execution_count": 43,
   "metadata": {
    "ExecuteTime": {
     "end_time": "2021-07-26T22:45:17.057627Z",
     "start_time": "2021-07-26T22:45:17.052624Z"
    }
   },
   "outputs": [
    {
     "name": "stdout",
     "output_type": "stream",
     "text": [
      "0.7811585588332075 {'max_features': 7, 'n_estimators': 180}\n",
      "0.7766300436554427 {'max_features': 15, 'n_estimators': 107}\n",
      "0.7789968843402453 {'max_features': 8, 'n_estimators': 189}\n",
      "0.781903768401832 {'max_features': 7, 'n_estimators': 122}\n",
      "0.7790862884200633 {'max_features': 19, 'n_estimators': 75}\n",
      "0.7828866282250241 {'max_features': 11, 'n_estimators': 88}\n",
      "0.7861504367306928 {'max_features': 4, 'n_estimators': 104}\n",
      "0.7870696171517475 {'max_features': 3, 'n_estimators': 150}\n",
      "0.7931869723432515 {'max_features': 2, 'n_estimators': 88}\n",
      "0.7776973447978144 {'max_features': 12, 'n_estimators': 158}\n"
     ]
    }
   ],
   "source": [
    "cvres_randomized_search = rnd_search.cv_results_\n",
    "cvres_randomized_search = rnd_search.cv_results_\n",
    "for mean_score, params in zip(cvres_randomized_search[\"mean_test_score\"], cvres_randomized_search[\"params\"]):\n",
    "    print(np.sqrt(-mean_score), params)"
   ]
  },
  {
   "cell_type": "code",
   "execution_count": 44,
   "metadata": {
    "ExecuteTime": {
     "end_time": "2021-07-26T22:45:17.067477Z",
     "start_time": "2021-07-26T22:45:17.060977Z"
    }
   },
   "outputs": [
    {
     "data": {
      "text/plain": [
       "0.7766300436554427"
      ]
     },
     "execution_count": 44,
     "metadata": {},
     "output_type": "execute_result"
    }
   ],
   "source": [
    "mean_test_score_rnd_search = np.sqrt(-(cvres_randomized_search[\"mean_test_score\"]))\n",
    "loc = np.argmin(mean_test_score_rnd_search)\n",
    "best_rnd_search_score = mean_test_score_rnd_search[loc]\n",
    "best_rnd_search_score"
   ]
  },
  {
   "cell_type": "code",
   "execution_count": null,
   "metadata": {},
   "outputs": [],
   "source": []
  },
  {
   "cell_type": "code",
   "execution_count": null,
   "metadata": {},
   "outputs": [],
   "source": []
  },
  {
   "cell_type": "markdown",
   "metadata": {},
   "source": [
    "## Conclusion"
   ]
  },
  {
   "cell_type": "markdown",
   "metadata": {},
   "source": [
    "Random sforest found to be the best model. Grid search and Randomized Grid search didn't improve the `RMSE` score.    \n",
    "Default parameters - n_estimators=100, max_features='auto'\n",
    "- RMSE = 0.7726\n",
    "\n",
    "Randomized Grid Search - n_estimators=158, max_features=12\n",
    "- RMSE = 0.7766"
   ]
  },
  {
   "cell_type": "markdown",
   "metadata": {},
   "source": [
    "### Scatter plot of Experimental vs Predicted pIC50 values"
   ]
  },
  {
   "cell_type": "code",
   "execution_count": 71,
   "metadata": {
    "ExecuteTime": {
     "end_time": "2021-07-26T23:15:35.480381Z",
     "start_time": "2021-07-26T23:15:23.623116Z"
    }
   },
   "outputs": [
    {
     "name": "stderr",
     "output_type": "stream",
     "text": [
      "/opt/anaconda3/envs/my_rdkit_env/lib/python3.8/site-packages/seaborn/_decorators.py:36: FutureWarning: Pass the following variables as keyword args: x, y. From version 0.12, the only valid positional argument will be `data`, and passing other arguments without an explicit keyword will result in an error or misinterpretation.\n",
      "  warnings.warn(\n"
     ]
    },
    {
     "data": {
      "image/png": "[encoded data removed]",
      "text/plain": [
       "<Figure size 612x468 with 1 Axes>"
      ]
     },
     "metadata": {
      "image/png": {
       "height": 424,
       "width": 529
      },
      "needs_background": "light"
     },
     "output_type": "display_data"
    }
   ],
   "source": [
    "plt.figure(figsize=(8.5, 6.5))\n",
    "\n",
    "\n",
    "sns.regplot(y_test,\n",
    "            forest_reg_predictions,\n",
    "            scatter_kws={'alpha':0.4})\n",
    "\n",
    "plt.xlabel('Experimental pIC50', fontsize=14, fontweight='bold')\n",
    "plt.ylabel('Predicted pIC50', fontsize=14, fontweight='bold')\n",
    "plt.title('Experimental vs Predicted pIC50 values', fontsize=18, fontweight=\"bold\")\n",
    "# plt.savefig('Experimental vs Predicted pIC50 values.png', format='png', bbox_inches='tight', pad_inches=0, dpi=1200)\n",
    "plt.show()"
   ]
  },
  {
   "cell_type": "code",
   "execution_count": 52,
   "metadata": {
    "ExecuteTime": {
     "end_time": "2021-07-26T22:49:36.561177Z",
     "start_time": "2021-07-26T22:49:36.530221Z"
    }
   },
   "outputs": [
    {
     "data": {
      "text/plain": [
       "array([0.01533542, 0.01597029, 0.00553665, 0.00859443, 0.0105157 ,\n",
       "       0.0055851 , 0.01433614, 0.00519169, 0.00995808, 0.01537421])"
      ]
     },
     "execution_count": 52,
     "metadata": {},
     "output_type": "execute_result"
    }
   ],
   "source": [
    "feature_importance = forest_reg.feature_importances_\n",
    "feature_importance[:10]"
   ]
  },
  {
   "cell_type": "code",
   "execution_count": 63,
   "metadata": {
    "ExecuteTime": {
     "end_time": "2021-07-26T23:01:27.121847Z",
     "start_time": "2021-07-26T23:01:27.112846Z"
    }
   },
   "outputs": [
    {
     "data": {
      "text/html": [
       "<div>\n",
       "<style scoped>\n",
       "    .dataframe tbody tr th:only-of-type {\n",
       "        vertical-align: middle;\n",
       "    }\n",
       "\n",
       "    .dataframe tbody tr th {\n",
       "        vertical-align: top;\n",
       "    }\n",
       "\n",
       "    .dataframe thead th {\n",
       "        text-align: right;\n",
       "    }\n",
       "</style>\n",
       "<table border=\"1\" class=\"dataframe\">\n",
       "  <thead>\n",
       "    <tr style=\"text-align: right;\">\n",
       "      <th></th>\n",
       "      <th>score</th>\n",
       "    </tr>\n",
       "  </thead>\n",
       "  <tbody>\n",
       "    <tr>\n",
       "      <th>PubchemFP335</th>\n",
       "      <td>0.016865</td>\n",
       "    </tr>\n",
       "    <tr>\n",
       "      <th>PubchemFP3</th>\n",
       "      <td>0.015970</td>\n",
       "    </tr>\n",
       "    <tr>\n",
       "      <th>PubchemFP150</th>\n",
       "      <td>0.015374</td>\n",
       "    </tr>\n",
       "    <tr>\n",
       "      <th>PubchemFP2</th>\n",
       "      <td>0.015335</td>\n",
       "    </tr>\n",
       "    <tr>\n",
       "      <th>PubchemFP143</th>\n",
       "      <td>0.014336</td>\n",
       "    </tr>\n",
       "    <tr>\n",
       "      <th>PubchemFP186</th>\n",
       "      <td>0.013259</td>\n",
       "    </tr>\n",
       "    <tr>\n",
       "      <th>PubchemFP199</th>\n",
       "      <td>0.013132</td>\n",
       "    </tr>\n",
       "    <tr>\n",
       "      <th>PubchemFP797</th>\n",
       "      <td>0.013071</td>\n",
       "    </tr>\n",
       "    <tr>\n",
       "      <th>PubchemFP776</th>\n",
       "      <td>0.012659</td>\n",
       "    </tr>\n",
       "    <tr>\n",
       "      <th>PubchemFP697</th>\n",
       "      <td>0.012440</td>\n",
       "    </tr>\n",
       "  </tbody>\n",
       "</table>\n",
       "</div>"
      ],
      "text/plain": [
       "                 score\n",
       "PubchemFP335  0.016865\n",
       "PubchemFP3    0.015970\n",
       "PubchemFP150  0.015374\n",
       "PubchemFP2    0.015335\n",
       "PubchemFP143  0.014336\n",
       "PubchemFP186  0.013259\n",
       "PubchemFP199  0.013132\n",
       "PubchemFP797  0.013071\n",
       "PubchemFP776  0.012659\n",
       "PubchemFP697  0.012440"
      ]
     },
     "execution_count": 63,
     "metadata": {},
     "output_type": "execute_result"
    }
   ],
   "source": [
    "df_features = pd.DataFrame(feature_importance, index=X.columns)\n",
    "df_features.rename(columns={0: 'score'}, inplace=True)\n",
    "df_features.sort_values(by='score', ascending=False, inplace=True)\n",
    "df_features =  df_features.iloc[:10]\n",
    "df_features"
   ]
  },
  {
   "cell_type": "code",
   "execution_count": 70,
   "metadata": {
    "ExecuteTime": {
     "end_time": "2021-07-26T23:12:26.936407Z",
     "start_time": "2021-07-26T23:12:14.935511Z"
    }
   },
   "outputs": [
    {
     "data": {
      "image/png": "[encoded data removed]",
      "text/plain": [
       "<Figure size 612x468 with 1 Axes>"
      ]
     },
     "metadata": {
      "image/png": {
       "height": 424,
       "width": 606
      },
      "needs_background": "light"
     },
     "output_type": "display_data"
    }
   ],
   "source": [
    "plt.figure(figsize=(8.5,6.5))\n",
    "sns.barplot(data=df_features, x='score', y=df_features.index)\n",
    "plt.title('Top 10 features', fontsize=18, fontweight=\"bold\")\n",
    "plt.xlabel('score', fontsize=14, fontweight=\"bold\")\n",
    "plt.ylabel('feature', fontsize=14, fontweight=\"bold\")\n",
    "# sns.despine(right=True, top=True)\n",
    "# plt.savefig('Top 10 feature importance.png', format='png', bbox_inches='tight', pad_inches=0, dpi=1200)\n",
    "plt.show()"
   ]
  },
  {
   "cell_type": "code",
   "execution_count": null,
   "metadata": {},
   "outputs": [],
   "source": []
  }
 ],
 "metadata": {
  "kernelspec": {
   "display_name": "my_rdkit_env",
   "language": "python",
   "name": "my_rdkit_env"
  },
  "language_info": {
   "codemirror_mode": {
    "name": "ipython",
    "version": 3
   },
   "file_extension": ".py",
   "mimetype": "text/x-python",
   "name": "python",
   "nbconvert_exporter": "python",
   "pygments_lexer": "ipython3",
   "version": "3.8.2"
  },
  "toc": {
   "base_numbering": 1,
   "nav_menu": {},
   "number_sections": true,
   "sideBar": true,
   "skip_h1_title": false,
   "title_cell": "Table of Contents",
   "title_sidebar": "Contents",
   "toc_cell": false,
   "toc_position": {},
   "toc_section_display": true,
   "toc_window_display": false
  },
  "varInspector": {
   "cols": {
    "lenName": 16,
    "lenType": 16,
    "lenVar": 40
   },
   "kernels_config": {
    "python": {
     "delete_cmd_postfix": "",
     "delete_cmd_prefix": "del ",
     "library": "var_list.py",
     "varRefreshCmd": "print(var_dic_list())"
    },
    "r": {
     "delete_cmd_postfix": ") ",
     "delete_cmd_prefix": "rm(",
     "library": "var_list.r",
     "varRefreshCmd": "cat(var_dic_list()) "
    }
   },
   "types_to_exclude": [
    "module",
    "function",
    "builtin_function_or_method",
    "instance",
    "_Feature"
   ],
   "window_display": false
  }
 },
 "nbformat": 4,
 "nbformat_minor": 2
}
