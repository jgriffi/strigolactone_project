{
 "cells": [
  {
   "cell_type": "markdown",
   "id": "b385cd45",
   "metadata": {},
   "source": [
    "## Import libraries"
   ]
  },
  {
   "cell_type": "code",
   "execution_count": 1,
   "id": "9dc7a2b1",
   "metadata": {
    "ExecuteTime": {
     "end_time": "2021-07-26T00:29:02.344184Z",
     "start_time": "2021-07-26T00:29:01.095772Z"
    }
   },
   "outputs": [],
   "source": [
    "import pandas as pd\n",
    "import numpy as np\n",
    "from rdkit.Chem import Descriptors, Lipinski\n",
    "import os\n",
    "import matplotlib as mpl\n",
    "import matplotlib.pyplot as plt\n",
    "import seaborn as sns\n",
    "from scipy.stats import mannwhitneyu\n",
    "from common import mannwhitney\n",
    "\n",
    "mpl.rc('axes', labelsize=14)\n",
    "mpl.rc('xtick', labelsize=12)\n",
    "mpl.rc('ytick', labelsize=12)\n",
    "%matplotlib inline\n",
    "%config InlineBackend.figure_format='retina'"
   ]
  },
  {
   "cell_type": "markdown",
   "id": "81b103a1",
   "metadata": {},
   "source": [
    "## Statistical analysis of active and inactive classes"
   ]
  },
  {
   "cell_type": "markdown",
   "id": "3f1409d6",
   "metadata": {},
   "source": [
    "**Interpretation of Statistical Results**  \n",
    "\n",
    "_**Box Plots**_\n",
    "\n",
    "\n",
    "_**pIC50 values**_  \n",
    "Taking a look at **pIC<sub>50</sub>** values, the **actives** and **inactives** displayed _**statistically significant difference**_, which is to be expected since threshold values (**pIC<sub>50</sub>** < 1,000 nM = **actives** while **pIC<sub>50</sub>** > 10,000 nM = **inactives**, corresponding to **pIC<sub>50</sub>** > 6 = **actives** and **pIC<sub>50</sub>** < 5 = **inactives**) were used to define actives and inactives.\n",
    "\n",
    "_**Lipinski's descriptors**_  \n",
    "Of the 4 Lipinski's descriptors _**no statistically significant difference**_ was observed between **actives** and **inactives**."
   ]
  },
  {
   "cell_type": "code",
   "execution_count": 2,
   "id": "045e586a",
   "metadata": {
    "ExecuteTime": {
     "end_time": "2021-07-26T00:29:02.412215Z",
     "start_time": "2021-07-26T00:29:02.347604Z"
    }
   },
   "outputs": [
    {
     "data": {
      "text/html": [
       "<div>\n",
       "<style scoped>\n",
       "    .dataframe tbody tr th:only-of-type {\n",
       "        vertical-align: middle;\n",
       "    }\n",
       "\n",
       "    .dataframe tbody tr th {\n",
       "        vertical-align: top;\n",
       "    }\n",
       "\n",
       "    .dataframe thead th {\n",
       "        text-align: right;\n",
       "    }\n",
       "</style>\n",
       "<table border=\"1\" class=\"dataframe\">\n",
       "  <thead>\n",
       "    <tr style=\"text-align: right;\">\n",
       "      <th></th>\n",
       "      <th>molecule_chembl_id</th>\n",
       "      <th>cleaned_canonical_smiles</th>\n",
       "      <th>bioactivity_class</th>\n",
       "      <th>MW</th>\n",
       "      <th>LogP</th>\n",
       "      <th>NumHDonors</th>\n",
       "      <th>NumHAcceptors</th>\n",
       "      <th>pIC50</th>\n",
       "    </tr>\n",
       "  </thead>\n",
       "  <tbody>\n",
       "    <tr>\n",
       "      <th>0</th>\n",
       "      <td>CHEMBL39380</td>\n",
       "      <td>COC(=O)CC(O)CP(=O)([O-])CCc1c(Cl)cc(Cl)cc1OCc1...</td>\n",
       "      <td>active</td>\n",
       "      <td>460.270</td>\n",
       "      <td>3.6773</td>\n",
       "      <td>1.0</td>\n",
       "      <td>6.0</td>\n",
       "      <td>7.0</td>\n",
       "    </tr>\n",
       "    <tr>\n",
       "      <th>1</th>\n",
       "      <td>CHEMBL39003</td>\n",
       "      <td>CC(C)(C)C(=O)OCOC(=O)CC(O)CP(=O)(CCc1c(Cl)cc(C...</td>\n",
       "      <td>active</td>\n",
       "      <td>675.539</td>\n",
       "      <td>6.7974</td>\n",
       "      <td>1.0</td>\n",
       "      <td>10.0</td>\n",
       "      <td>7.0</td>\n",
       "    </tr>\n",
       "    <tr>\n",
       "      <th>2</th>\n",
       "      <td>CHEMBL39102</td>\n",
       "      <td>O=C(O)C[C@H](O)CP(=O)(O)CCc1c(Cl)cc(Cl)cc1OCc1...</td>\n",
       "      <td>active</td>\n",
       "      <td>447.251</td>\n",
       "      <td>4.2209</td>\n",
       "      <td>3.0</td>\n",
       "      <td>4.0</td>\n",
       "      <td>6.0</td>\n",
       "    </tr>\n",
       "    <tr>\n",
       "      <th>3</th>\n",
       "      <td>CHEMBL162083</td>\n",
       "      <td>O=S(=O)(CC#C/C=C\\C#CCO)c1ccccc1</td>\n",
       "      <td>active</td>\n",
       "      <td>260.314</td>\n",
       "      <td>1.0156</td>\n",
       "      <td>1.0</td>\n",
       "      <td>3.0</td>\n",
       "      <td>8.0</td>\n",
       "    </tr>\n",
       "    <tr>\n",
       "      <th>4</th>\n",
       "      <td>CHEMBL350898</td>\n",
       "      <td>COc1ccc(S(=O)(=O)CC#C/C=C\\C#CCO)cc1</td>\n",
       "      <td>active</td>\n",
       "      <td>290.340</td>\n",
       "      <td>1.0242</td>\n",
       "      <td>1.0</td>\n",
       "      <td>4.0</td>\n",
       "      <td>8.0</td>\n",
       "    </tr>\n",
       "  </tbody>\n",
       "</table>\n",
       "</div>"
      ],
      "text/plain": [
       "  molecule_chembl_id                           cleaned_canonical_smiles  \\\n",
       "0        CHEMBL39380  COC(=O)CC(O)CP(=O)([O-])CCc1c(Cl)cc(Cl)cc1OCc1...   \n",
       "1        CHEMBL39003  CC(C)(C)C(=O)OCOC(=O)CC(O)CP(=O)(CCc1c(Cl)cc(C...   \n",
       "2        CHEMBL39102  O=C(O)C[C@H](O)CP(=O)(O)CCc1c(Cl)cc(Cl)cc1OCc1...   \n",
       "3       CHEMBL162083                    O=S(=O)(CC#C/C=C\\C#CCO)c1ccccc1   \n",
       "4       CHEMBL350898                COc1ccc(S(=O)(=O)CC#C/C=C\\C#CCO)cc1   \n",
       "\n",
       "  bioactivity_class       MW    LogP  NumHDonors  NumHAcceptors  pIC50  \n",
       "0            active  460.270  3.6773         1.0            6.0    7.0  \n",
       "1            active  675.539  6.7974         1.0           10.0    7.0  \n",
       "2            active  447.251  4.2209         3.0            4.0    6.0  \n",
       "3            active  260.314  1.0156         1.0            3.0    8.0  \n",
       "4            active  290.340  1.0242         1.0            4.0    8.0  "
      ]
     },
     "execution_count": 2,
     "metadata": {},
     "output_type": "execute_result"
    }
   ],
   "source": [
    "tidy_target_HepG2_3classes = pd.read_csv('./data/tidy_target_HepG2_3classes.csv')\n",
    "tidy_target_HepG2_3classes.head()"
   ]
  },
  {
   "cell_type": "code",
   "execution_count": 3,
   "id": "16a4f5c1",
   "metadata": {
    "ExecuteTime": {
     "end_time": "2021-07-26T00:29:02.431479Z",
     "start_time": "2021-07-26T00:29:02.415308Z"
    }
   },
   "outputs": [
    {
     "data": {
      "text/html": [
       "<div>\n",
       "<style scoped>\n",
       "    .dataframe tbody tr th:only-of-type {\n",
       "        vertical-align: middle;\n",
       "    }\n",
       "\n",
       "    .dataframe tbody tr th {\n",
       "        vertical-align: top;\n",
       "    }\n",
       "\n",
       "    .dataframe thead th {\n",
       "        text-align: right;\n",
       "    }\n",
       "</style>\n",
       "<table border=\"1\" class=\"dataframe\">\n",
       "  <thead>\n",
       "    <tr style=\"text-align: right;\">\n",
       "      <th></th>\n",
       "      <th>molecule_chembl_id</th>\n",
       "      <th>cleaned_canonical_smiles</th>\n",
       "      <th>bioactivity_class</th>\n",
       "      <th>MW</th>\n",
       "      <th>LogP</th>\n",
       "      <th>NumHDonors</th>\n",
       "      <th>NumHAcceptors</th>\n",
       "      <th>pIC50</th>\n",
       "    </tr>\n",
       "  </thead>\n",
       "  <tbody>\n",
       "    <tr>\n",
       "      <th>0</th>\n",
       "      <td>CHEMBL39380</td>\n",
       "      <td>COC(=O)CC(O)CP(=O)([O-])CCc1c(Cl)cc(Cl)cc1OCc1...</td>\n",
       "      <td>active</td>\n",
       "      <td>460.270</td>\n",
       "      <td>3.6773</td>\n",
       "      <td>1.0</td>\n",
       "      <td>6.0</td>\n",
       "      <td>7.0</td>\n",
       "    </tr>\n",
       "    <tr>\n",
       "      <th>1</th>\n",
       "      <td>CHEMBL39003</td>\n",
       "      <td>CC(C)(C)C(=O)OCOC(=O)CC(O)CP(=O)(CCc1c(Cl)cc(C...</td>\n",
       "      <td>active</td>\n",
       "      <td>675.539</td>\n",
       "      <td>6.7974</td>\n",
       "      <td>1.0</td>\n",
       "      <td>10.0</td>\n",
       "      <td>7.0</td>\n",
       "    </tr>\n",
       "    <tr>\n",
       "      <th>2</th>\n",
       "      <td>CHEMBL39102</td>\n",
       "      <td>O=C(O)C[C@H](O)CP(=O)(O)CCc1c(Cl)cc(Cl)cc1OCc1...</td>\n",
       "      <td>active</td>\n",
       "      <td>447.251</td>\n",
       "      <td>4.2209</td>\n",
       "      <td>3.0</td>\n",
       "      <td>4.0</td>\n",
       "      <td>6.0</td>\n",
       "    </tr>\n",
       "    <tr>\n",
       "      <th>3</th>\n",
       "      <td>CHEMBL162083</td>\n",
       "      <td>O=S(=O)(CC#C/C=C\\C#CCO)c1ccccc1</td>\n",
       "      <td>active</td>\n",
       "      <td>260.314</td>\n",
       "      <td>1.0156</td>\n",
       "      <td>1.0</td>\n",
       "      <td>3.0</td>\n",
       "      <td>8.0</td>\n",
       "    </tr>\n",
       "    <tr>\n",
       "      <th>4</th>\n",
       "      <td>CHEMBL350898</td>\n",
       "      <td>COc1ccc(S(=O)(=O)CC#C/C=C\\C#CCO)cc1</td>\n",
       "      <td>active</td>\n",
       "      <td>290.340</td>\n",
       "      <td>1.0242</td>\n",
       "      <td>1.0</td>\n",
       "      <td>4.0</td>\n",
       "      <td>8.0</td>\n",
       "    </tr>\n",
       "  </tbody>\n",
       "</table>\n",
       "</div>"
      ],
      "text/plain": [
       "  molecule_chembl_id                           cleaned_canonical_smiles  \\\n",
       "0        CHEMBL39380  COC(=O)CC(O)CP(=O)([O-])CCc1c(Cl)cc(Cl)cc1OCc1...   \n",
       "1        CHEMBL39003  CC(C)(C)C(=O)OCOC(=O)CC(O)CP(=O)(CCc1c(Cl)cc(C...   \n",
       "2        CHEMBL39102  O=C(O)C[C@H](O)CP(=O)(O)CCc1c(Cl)cc(Cl)cc1OCc1...   \n",
       "3       CHEMBL162083                    O=S(=O)(CC#C/C=C\\C#CCO)c1ccccc1   \n",
       "4       CHEMBL350898                COc1ccc(S(=O)(=O)CC#C/C=C\\C#CCO)cc1   \n",
       "\n",
       "  bioactivity_class       MW    LogP  NumHDonors  NumHAcceptors  pIC50  \n",
       "0            active  460.270  3.6773         1.0            6.0    7.0  \n",
       "1            active  675.539  6.7974         1.0           10.0    7.0  \n",
       "2            active  447.251  4.2209         3.0            4.0    6.0  \n",
       "3            active  260.314  1.0156         1.0            3.0    8.0  \n",
       "4            active  290.340  1.0242         1.0            4.0    8.0  "
      ]
     },
     "execution_count": 3,
     "metadata": {},
     "output_type": "execute_result"
    }
   ],
   "source": [
    "tidy_target_HepG2_2classes = tidy_target_HepG2_3classes.loc[tidy_target_HepG2_3classes[\"bioactivity_class\"] != \"intermediate\"]\n",
    "tidy_target_HepG2_2classes.head()"
   ]
  },
  {
   "cell_type": "markdown",
   "id": "33c21550",
   "metadata": {},
   "source": [
    "**pIC50**"
   ]
  },
  {
   "cell_type": "code",
   "execution_count": 4,
   "id": "1fe6d9dc",
   "metadata": {
    "ExecuteTime": {
     "end_time": "2021-07-26T00:29:02.711873Z",
     "start_time": "2021-07-26T00:29:02.433289Z"
    }
   },
   "outputs": [
    {
     "data": {
      "image/png": "[encoded data removed]",
      "text/plain": [
       "<Figure size 612x468 with 1 Axes>"
      ]
     },
     "metadata": {
      "image/png": {
       "height": 404,
       "width": 529
      },
      "needs_background": "light"
     },
     "output_type": "display_data"
    }
   ],
   "source": [
    "plt.figure(figsize=(8.5, 6.5))\n",
    "sns.boxplot(x='bioactivity_class', y='pIC50', data=tidy_target_HepG2_2classes)\n",
    "plt.xlabel('Bioactivity class', fontsize=14, fontweight='bold')\n",
    "plt.ylabel('pIC50', fontsize=14, fontweight='bold')\n",
    "plt.show()"
   ]
  },
  {
   "cell_type": "code",
   "execution_count": 5,
   "id": "00949546",
   "metadata": {
    "ExecuteTime": {
     "end_time": "2021-07-26T00:29:02.735859Z",
     "start_time": "2021-07-26T00:29:02.713673Z"
    }
   },
   "outputs": [
    {
     "data": {
      "text/html": [
       "<div>\n",
       "<style scoped>\n",
       "    .dataframe tbody tr th:only-of-type {\n",
       "        vertical-align: middle;\n",
       "    }\n",
       "\n",
       "    .dataframe tbody tr th {\n",
       "        vertical-align: top;\n",
       "    }\n",
       "\n",
       "    .dataframe thead th {\n",
       "        text-align: right;\n",
       "    }\n",
       "</style>\n",
       "<table border=\"1\" class=\"dataframe\">\n",
       "  <thead>\n",
       "    <tr style=\"text-align: right;\">\n",
       "      <th></th>\n",
       "      <th>Descriptor</th>\n",
       "      <th>Statistics</th>\n",
       "      <th>p</th>\n",
       "      <th>alpha</th>\n",
       "      <th>Interpretation</th>\n",
       "    </tr>\n",
       "  </thead>\n",
       "  <tbody>\n",
       "    <tr>\n",
       "      <th>0</th>\n",
       "      <td>pIC50</td>\n",
       "      <td>0.0</td>\n",
       "      <td>0.0</td>\n",
       "      <td>0.05</td>\n",
       "      <td>Different distribution (reject H0)</td>\n",
       "    </tr>\n",
       "  </tbody>\n",
       "</table>\n",
       "</div>"
      ],
      "text/plain": [
       "  Descriptor  Statistics    p  alpha                      Interpretation\n",
       "0      pIC50         0.0  0.0   0.05  Different distribution (reject H0)"
      ]
     },
     "execution_count": 5,
     "metadata": {},
     "output_type": "execute_result"
    }
   ],
   "source": [
    "tidy_target_HepG2_2classes.pipe(mannwhitney, descriptor='pIC50')"
   ]
  },
  {
   "cell_type": "markdown",
   "id": "b29d2a7f",
   "metadata": {},
   "source": [
    "**MW**"
   ]
  },
  {
   "cell_type": "code",
   "execution_count": 6,
   "id": "e22fa0bd",
   "metadata": {
    "ExecuteTime": {
     "end_time": "2021-07-26T00:29:03.014825Z",
     "start_time": "2021-07-26T00:29:02.737998Z"
    }
   },
   "outputs": [
    {
     "data": {
      "image/png": "[encoded data removed]",
      "text/plain": [
       "<Figure size 612x468 with 1 Axes>"
      ]
     },
     "metadata": {
      "image/png": {
       "height": 404,
       "width": 544
      },
      "needs_background": "light"
     },
     "output_type": "display_data"
    }
   ],
   "source": [
    "plt.figure(figsize=(8.5, 6.5))\n",
    "sns.boxplot(x='bioactivity_class', y='MW', data=tidy_target_HepG2_2classes)\n",
    "plt.xlabel('Bioactivity class', fontsize=14, fontweight='bold')\n",
    "plt.ylabel('MW', fontsize=14, fontweight='bold')\n",
    "plt.show()"
   ]
  },
  {
   "cell_type": "code",
   "execution_count": 7,
   "id": "826c34da",
   "metadata": {
    "ExecuteTime": {
     "end_time": "2021-07-26T00:29:03.040445Z",
     "start_time": "2021-07-26T00:29:03.018672Z"
    }
   },
   "outputs": [
    {
     "data": {
      "text/html": [
       "<div>\n",
       "<style scoped>\n",
       "    .dataframe tbody tr th:only-of-type {\n",
       "        vertical-align: middle;\n",
       "    }\n",
       "\n",
       "    .dataframe tbody tr th {\n",
       "        vertical-align: top;\n",
       "    }\n",
       "\n",
       "    .dataframe thead th {\n",
       "        text-align: right;\n",
       "    }\n",
       "</style>\n",
       "<table border=\"1\" class=\"dataframe\">\n",
       "  <thead>\n",
       "    <tr style=\"text-align: right;\">\n",
       "      <th></th>\n",
       "      <th>Descriptor</th>\n",
       "      <th>Statistics</th>\n",
       "      <th>p</th>\n",
       "      <th>alpha</th>\n",
       "      <th>Interpretation</th>\n",
       "    </tr>\n",
       "  </thead>\n",
       "  <tbody>\n",
       "    <tr>\n",
       "      <th>0</th>\n",
       "      <td>MW</td>\n",
       "      <td>17126143.5</td>\n",
       "      <td>0.096305</td>\n",
       "      <td>0.05</td>\n",
       "      <td>Same distribution (fail to reject H0)</td>\n",
       "    </tr>\n",
       "  </tbody>\n",
       "</table>\n",
       "</div>"
      ],
      "text/plain": [
       "  Descriptor  Statistics         p  alpha  \\\n",
       "0         MW  17126143.5  0.096305   0.05   \n",
       "\n",
       "                          Interpretation  \n",
       "0  Same distribution (fail to reject H0)  "
      ]
     },
     "execution_count": 7,
     "metadata": {},
     "output_type": "execute_result"
    }
   ],
   "source": [
    "tidy_target_HepG2_2classes.pipe(mannwhitney, descriptor='MW')"
   ]
  },
  {
   "cell_type": "markdown",
   "id": "a077f418",
   "metadata": {},
   "source": [
    "**LogP**"
   ]
  },
  {
   "cell_type": "code",
   "execution_count": 8,
   "id": "4f44b739",
   "metadata": {
    "ExecuteTime": {
     "end_time": "2021-07-26T00:29:03.344716Z",
     "start_time": "2021-07-26T00:29:03.045556Z"
    }
   },
   "outputs": [
    {
     "data": {
      "image/png": "[encoded data removed]",
      "text/plain": [
       "<Figure size 612x468 with 1 Axes>"
      ]
     },
     "metadata": {
      "image/png": {
       "height": 408,
       "width": 539
      },
      "needs_background": "light"
     },
     "output_type": "display_data"
    }
   ],
   "source": [
    "plt.figure(figsize=(8.5, 6.5))\n",
    "sns.boxplot(x='bioactivity_class', y='LogP', data=tidy_target_HepG2_2classes)\n",
    "plt.xlabel('Bioactivity class', fontsize=14, fontweight='bold')\n",
    "plt.ylabel('LogP', fontsize=14, fontweight='bold')\n",
    "plt.show()"
   ]
  },
  {
   "cell_type": "code",
   "execution_count": 9,
   "id": "bcbe7cbe",
   "metadata": {
    "ExecuteTime": {
     "end_time": "2021-07-26T00:29:03.368361Z",
     "start_time": "2021-07-26T00:29:03.347399Z"
    }
   },
   "outputs": [
    {
     "data": {
      "text/html": [
       "<div>\n",
       "<style scoped>\n",
       "    .dataframe tbody tr th:only-of-type {\n",
       "        vertical-align: middle;\n",
       "    }\n",
       "\n",
       "    .dataframe tbody tr th {\n",
       "        vertical-align: top;\n",
       "    }\n",
       "\n",
       "    .dataframe thead th {\n",
       "        text-align: right;\n",
       "    }\n",
       "</style>\n",
       "<table border=\"1\" class=\"dataframe\">\n",
       "  <thead>\n",
       "    <tr style=\"text-align: right;\">\n",
       "      <th></th>\n",
       "      <th>Descriptor</th>\n",
       "      <th>Statistics</th>\n",
       "      <th>p</th>\n",
       "      <th>alpha</th>\n",
       "      <th>Interpretation</th>\n",
       "    </tr>\n",
       "  </thead>\n",
       "  <tbody>\n",
       "    <tr>\n",
       "      <th>0</th>\n",
       "      <td>LogP</td>\n",
       "      <td>17299179.5</td>\n",
       "      <td>0.326914</td>\n",
       "      <td>0.05</td>\n",
       "      <td>Same distribution (fail to reject H0)</td>\n",
       "    </tr>\n",
       "  </tbody>\n",
       "</table>\n",
       "</div>"
      ],
      "text/plain": [
       "  Descriptor  Statistics         p  alpha  \\\n",
       "0       LogP  17299179.5  0.326914   0.05   \n",
       "\n",
       "                          Interpretation  \n",
       "0  Same distribution (fail to reject H0)  "
      ]
     },
     "execution_count": 9,
     "metadata": {},
     "output_type": "execute_result"
    }
   ],
   "source": [
    "tidy_target_HepG2_2classes.pipe(mannwhitney, descriptor='LogP')"
   ]
  },
  {
   "cell_type": "markdown",
   "id": "2a8a9817",
   "metadata": {},
   "source": [
    "**NumHDonors**"
   ]
  },
  {
   "cell_type": "code",
   "execution_count": 10,
   "id": "d9b2970e",
   "metadata": {
    "ExecuteTime": {
     "end_time": "2021-07-26T00:29:03.661397Z",
     "start_time": "2021-07-26T00:29:03.372104Z"
    }
   },
   "outputs": [
    {
     "data": {
      "image/png": "[encoded data removed]",
      "text/plain": [
       "<Figure size 612x468 with 1 Axes>"
      ]
     },
     "metadata": {
      "image/png": {
       "height": 404,
       "width": 529
      },
      "needs_background": "light"
     },
     "output_type": "display_data"
    }
   ],
   "source": [
    "plt.figure(figsize=(8.5, 6.5))\n",
    "sns.boxplot(x='bioactivity_class', y='NumHDonors', data=tidy_target_HepG2_2classes)\n",
    "plt.xlabel('Bioactivity class', fontsize=14, fontweight='bold')\n",
    "plt.ylabel('NumHDonors', fontsize=14, fontweight='bold')\n",
    "plt.show()"
   ]
  },
  {
   "cell_type": "code",
   "execution_count": 11,
   "id": "832779a9",
   "metadata": {
    "ExecuteTime": {
     "end_time": "2021-07-26T00:29:03.684216Z",
     "start_time": "2021-07-26T00:29:03.664937Z"
    }
   },
   "outputs": [
    {
     "data": {
      "text/html": [
       "<div>\n",
       "<style scoped>\n",
       "    .dataframe tbody tr th:only-of-type {\n",
       "        vertical-align: middle;\n",
       "    }\n",
       "\n",
       "    .dataframe tbody tr th {\n",
       "        vertical-align: top;\n",
       "    }\n",
       "\n",
       "    .dataframe thead th {\n",
       "        text-align: right;\n",
       "    }\n",
       "</style>\n",
       "<table border=\"1\" class=\"dataframe\">\n",
       "  <thead>\n",
       "    <tr style=\"text-align: right;\">\n",
       "      <th></th>\n",
       "      <th>Descriptor</th>\n",
       "      <th>Statistics</th>\n",
       "      <th>p</th>\n",
       "      <th>alpha</th>\n",
       "      <th>Interpretation</th>\n",
       "    </tr>\n",
       "  </thead>\n",
       "  <tbody>\n",
       "    <tr>\n",
       "      <th>0</th>\n",
       "      <td>NumHDonors</td>\n",
       "      <td>15951127.0</td>\n",
       "      <td>1.245809e-13</td>\n",
       "      <td>0.05</td>\n",
       "      <td>Different distribution (reject H0)</td>\n",
       "    </tr>\n",
       "  </tbody>\n",
       "</table>\n",
       "</div>"
      ],
      "text/plain": [
       "   Descriptor  Statistics             p  alpha  \\\n",
       "0  NumHDonors  15951127.0  1.245809e-13   0.05   \n",
       "\n",
       "                       Interpretation  \n",
       "0  Different distribution (reject H0)  "
      ]
     },
     "execution_count": 11,
     "metadata": {},
     "output_type": "execute_result"
    }
   ],
   "source": [
    "tidy_target_HepG2_2classes.pipe(mannwhitney, descriptor='NumHDonors')"
   ]
  },
  {
   "cell_type": "markdown",
   "id": "0b09f832",
   "metadata": {},
   "source": [
    "**NumHAcceptors**"
   ]
  },
  {
   "cell_type": "code",
   "execution_count": 12,
   "id": "cc55a870",
   "metadata": {
    "ExecuteTime": {
     "end_time": "2021-07-26T00:29:03.959482Z",
     "start_time": "2021-07-26T00:29:03.687142Z"
    }
   },
   "outputs": [
    {
     "data": {
      "image/png": "[encoded data removed]",
      "text/plain": [
       "<Figure size 612x468 with 1 Axes>"
      ]
     },
     "metadata": {
      "image/png": {
       "height": 404,
       "width": 529
      },
      "needs_background": "light"
     },
     "output_type": "display_data"
    }
   ],
   "source": [
    "plt.figure(figsize=(8.5, 6.5))\n",
    "sns.boxplot(x='bioactivity_class', y='NumHAcceptors', data=tidy_target_HepG2_2classes)\n",
    "plt.xlabel('Bioactivity class', fontsize=14, fontweight='bold')\n",
    "plt.ylabel('NumHAcceptors', fontsize=14, fontweight='bold')\n",
    "plt.show()"
   ]
  },
  {
   "cell_type": "code",
   "execution_count": 13,
   "id": "138ebbcc",
   "metadata": {
    "ExecuteTime": {
     "end_time": "2021-07-26T00:29:03.982175Z",
     "start_time": "2021-07-26T00:29:03.961451Z"
    }
   },
   "outputs": [
    {
     "data": {
      "text/html": [
       "<div>\n",
       "<style scoped>\n",
       "    .dataframe tbody tr th:only-of-type {\n",
       "        vertical-align: middle;\n",
       "    }\n",
       "\n",
       "    .dataframe tbody tr th {\n",
       "        vertical-align: top;\n",
       "    }\n",
       "\n",
       "    .dataframe thead th {\n",
       "        text-align: right;\n",
       "    }\n",
       "</style>\n",
       "<table border=\"1\" class=\"dataframe\">\n",
       "  <thead>\n",
       "    <tr style=\"text-align: right;\">\n",
       "      <th></th>\n",
       "      <th>Descriptor</th>\n",
       "      <th>Statistics</th>\n",
       "      <th>p</th>\n",
       "      <th>alpha</th>\n",
       "      <th>Interpretation</th>\n",
       "    </tr>\n",
       "  </thead>\n",
       "  <tbody>\n",
       "    <tr>\n",
       "      <th>0</th>\n",
       "      <td>NumHAcceptors</td>\n",
       "      <td>16802731.0</td>\n",
       "      <td>0.00174</td>\n",
       "      <td>0.05</td>\n",
       "      <td>Different distribution (reject H0)</td>\n",
       "    </tr>\n",
       "  </tbody>\n",
       "</table>\n",
       "</div>"
      ],
      "text/plain": [
       "      Descriptor  Statistics        p  alpha  \\\n",
       "0  NumHAcceptors  16802731.0  0.00174   0.05   \n",
       "\n",
       "                       Interpretation  \n",
       "0  Different distribution (reject H0)  "
      ]
     },
     "execution_count": 13,
     "metadata": {},
     "output_type": "execute_result"
    }
   ],
   "source": [
    "tidy_target_HepG2_2classes.pipe(mannwhitney, descriptor='NumHAcceptors')"
   ]
  },
  {
   "cell_type": "code",
   "execution_count": 14,
   "id": "cae85c65",
   "metadata": {
    "ExecuteTime": {
     "end_time": "2021-07-26T00:29:04.056314Z",
     "start_time": "2021-07-26T00:29:03.985430Z"
    }
   },
   "outputs": [
    {
     "data": {
      "text/html": [
       "<div>\n",
       "<style scoped>\n",
       "    .dataframe tbody tr th:only-of-type {\n",
       "        vertical-align: middle;\n",
       "    }\n",
       "\n",
       "    .dataframe tbody tr th {\n",
       "        vertical-align: top;\n",
       "    }\n",
       "\n",
       "    .dataframe thead th {\n",
       "        text-align: right;\n",
       "    }\n",
       "</style>\n",
       "<table border=\"1\" class=\"dataframe\">\n",
       "  <thead>\n",
       "    <tr style=\"text-align: right;\">\n",
       "      <th></th>\n",
       "      <th>Descriptor</th>\n",
       "      <th>Statistics</th>\n",
       "      <th>p</th>\n",
       "      <th>alpha</th>\n",
       "      <th>Interpretation</th>\n",
       "    </tr>\n",
       "  </thead>\n",
       "  <tbody>\n",
       "    <tr>\n",
       "      <th>0</th>\n",
       "      <td>pIC50</td>\n",
       "      <td>0.0</td>\n",
       "      <td>0.000000e+00</td>\n",
       "      <td>0.05</td>\n",
       "      <td>Different distribution (reject H0)</td>\n",
       "    </tr>\n",
       "    <tr>\n",
       "      <th>1</th>\n",
       "      <td>MW</td>\n",
       "      <td>17126143.5</td>\n",
       "      <td>9.630516e-02</td>\n",
       "      <td>0.05</td>\n",
       "      <td>Same distribution (fail to reject H0)</td>\n",
       "    </tr>\n",
       "    <tr>\n",
       "      <th>2</th>\n",
       "      <td>LogP</td>\n",
       "      <td>17299179.5</td>\n",
       "      <td>3.269139e-01</td>\n",
       "      <td>0.05</td>\n",
       "      <td>Same distribution (fail to reject H0)</td>\n",
       "    </tr>\n",
       "    <tr>\n",
       "      <th>3</th>\n",
       "      <td>NumHDonors</td>\n",
       "      <td>15951127.0</td>\n",
       "      <td>1.245809e-13</td>\n",
       "      <td>0.05</td>\n",
       "      <td>Different distribution (reject H0)</td>\n",
       "    </tr>\n",
       "    <tr>\n",
       "      <th>4</th>\n",
       "      <td>NumHAcceptors</td>\n",
       "      <td>16802731.0</td>\n",
       "      <td>1.740157e-03</td>\n",
       "      <td>0.05</td>\n",
       "      <td>Different distribution (reject H0)</td>\n",
       "    </tr>\n",
       "  </tbody>\n",
       "</table>\n",
       "</div>"
      ],
      "text/plain": [
       "      Descriptor  Statistics             p  alpha  \\\n",
       "0          pIC50         0.0  0.000000e+00   0.05   \n",
       "1             MW  17126143.5  9.630516e-02   0.05   \n",
       "2           LogP  17299179.5  3.269139e-01   0.05   \n",
       "3     NumHDonors  15951127.0  1.245809e-13   0.05   \n",
       "4  NumHAcceptors  16802731.0  1.740157e-03   0.05   \n",
       "\n",
       "                          Interpretation  \n",
       "0     Different distribution (reject H0)  \n",
       "1  Same distribution (fail to reject H0)  \n",
       "2  Same distribution (fail to reject H0)  \n",
       "3     Different distribution (reject H0)  \n",
       "4     Different distribution (reject H0)  "
      ]
     },
     "execution_count": 14,
     "metadata": {},
     "output_type": "execute_result"
    }
   ],
   "source": [
    "mann_whitney = pd.concat([tidy_target_HepG2_2classes.pipe(mannwhitney, descriptor='pIC50'),\n",
    "                          tidy_target_HepG2_2classes.pipe(mannwhitney, descriptor='MW'),\n",
    "                          tidy_target_HepG2_2classes.pipe(mannwhitney, descriptor='LogP'),\n",
    "                          tidy_target_HepG2_2classes.pipe(mannwhitney, descriptor='NumHDonors'),\n",
    "                          tidy_target_HepG2_2classes.pipe(mannwhitney, descriptor='NumHAcceptors')\n",
    "                         ]).reset_index(drop=True)\n",
    "mann_whitney"
   ]
  },
  {
   "cell_type": "code",
   "execution_count": null,
   "id": "13cbb80d",
   "metadata": {},
   "outputs": [],
   "source": []
  }
 ],
 "metadata": {
  "kernelspec": {
   "display_name": "my_rdkit_env",
   "language": "python",
   "name": "my_rdkit_env"
  },
  "language_info": {
   "codemirror_mode": {
    "name": "ipython",
    "version": 3
   },
   "file_extension": ".py",
   "mimetype": "text/x-python",
   "name": "python",
   "nbconvert_exporter": "python",
   "pygments_lexer": "ipython3",
   "version": "3.8.2"
  },
  "toc": {
   "base_numbering": 1,
   "nav_menu": {},
   "number_sections": true,
   "sideBar": true,
   "skip_h1_title": false,
   "title_cell": "Table of Contents",
   "title_sidebar": "Contents",
   "toc_cell": false,
   "toc_position": {},
   "toc_section_display": true,
   "toc_window_display": false
  },
  "varInspector": {
   "cols": {
    "lenName": 16,
    "lenType": 16,
    "lenVar": 40
   },
   "kernels_config": {
    "python": {
     "delete_cmd_postfix": "",
     "delete_cmd_prefix": "del ",
     "library": "var_list.py",
     "varRefreshCmd": "print(var_dic_list())"
    },
    "r": {
     "delete_cmd_postfix": ") ",
     "delete_cmd_prefix": "rm(",
     "library": "var_list.r",
     "varRefreshCmd": "cat(var_dic_list()) "
    }
   },
   "types_to_exclude": [
    "module",
    "function",
    "builtin_function_or_method",
    "instance",
    "_Feature"
   ],
   "window_display": false
  }
 },
 "nbformat": 4,
 "nbformat_minor": 5
}
